{
 "cells": [
  {
   "cell_type": "markdown",
   "metadata": {
    "colab_type": "text",
    "id": "PsUjyKkuKLmm"
   },
   "source": [
    "# **Tutorial: Data Analysis on Reddit**\n",
    "https://reddit.com is a popular social media website that hosts a collection of forums (“subreddits”) where users aggregate certain types of content (ex: /r/catpics) or discuss certain topics (ex: /r/politics). There is a wealth of information to be gleaned from social, scientific, anthropological and other perspectives in reaping and analyzing the data on reddit, and it can be quite fun to do so as well. In this tutorial we provide a simple, extensible pipeline that guides the user through collecting, sanitizing, analyzing, and presenting (through graphs and summary statistics) that kind of data; go through it yourself and once you learn a few simple techniques, you’ll be able to adapt these methods to gather whatever kind of reddit data you want and analyze it in a variety of ways for fun and profit."
   ]
  },
  {
   "cell_type": "markdown",
   "metadata": {
    "colab_type": "text",
    "id": "deGTEqoKKgsP"
   },
   "source": [
    "## **Part 1) Importing the relevant libraries**\n",
    "For this project we will need a few different packages:\n",
    "\n",
    "\n",
    "*   **numpy**: a scientific computing library that contains versatile representation of arrays and a variety of mathematical functions\n",
    "*   **pandas**: a data analysis and manipulation library\n",
    "*   **matplotlib**: a pair of robust plotting libraries\n",
    "*   **plotnine**: library to compose plots\n",
    "*   **sklearn**: machine learning library\n",
    "*   **statsmodels**: a library that provides tools for statistical analysis\n",
    "*   **praw**: a data scraping library made to collect posts, comments, and other information from reddit.com\n",
    "*   **tqdm**: a simple library that adds loading bars for loops, optional\n"
   ]
  },
  {
   "cell_type": "code",
   "execution_count": 49,
   "metadata": {
    "colab": {},
    "colab_type": "code",
    "collapsed": true,
    "id": "pf9aCwtVI0ZG",
    "jupyter": {
     "outputs_hidden": true
    }
   },
   "outputs": [],
   "source": [
    "# To install praw:\n",
    "# import sys\n",
    "# !{sys.executable} -m pip install praw\n",
    "\n",
    "import numpy as np\n",
    "import pandas as pd\n",
    "from plotnine import *\n",
    "from matplotlib import pyplot as plt\n",
    "import statsmodels.formula.api as sm\n",
    "import sklearn.ensemble\n",
    "import sklearn.model_selection\n",
    "import sklearn.metrics\n",
    "import praw\n",
    "from tqdm import tqdm_notebook"
   ]
  },
  {
   "cell_type": "markdown",
   "metadata": {
    "colab_type": "text",
    "id": "5WujwvQYKaHV"
   },
   "source": [
    "## **Part 2) Data Collection and Parsing**\n",
    "Now that we have our libraries, the next step is to start scraping our data and arranging it in an easily manipulable format. In the example below, where we quickly scrape two datasets and store them in organized dataframes: 1) the top 100 posts from the subreddit /r/coronavirus and create a dataframe with post titles, authors, and other relevant fields and 2) all comments from a single highly-trafficked post along with comment author, score, etc.\n",
    "\n",
    "If you want more information on praw and how to use it for more specific queries or other types of reddit information, check out the quick start guide in the official praw docs here: https://praw.readthedocs.io/en/latest/getting_started/quick_start.html"
   ]
  },
  {
   "cell_type": "code",
   "execution_count": 2,
   "metadata": {
    "colab": {
     "base_uri": "https://localhost:8080/",
     "height": 916,
     "referenced_widgets": [
      "56fd1b1d2321467e97317bf449377320",
      "84877c097c83466d9b97e86d9b53fb45",
      "62de3be15c5941e281def864903b4464",
      "b521d170d75f42768c8660ca410bd984",
      "a3d11941575e4ff285cee4ca36e6767c",
      "a65b148ba67e4733b86ec9458aff7992",
      "0ad0dd41c412440b8f53bf494ea6df32",
      "e61213cf126f4ddb8c943690d40236b6"
     ]
    },
    "colab_type": "code",
    "id": "BQlt9x27NDa_",
    "outputId": "dc3ebe52-9f03-4a8d-b2d3-a940bd802762"
   },
   "outputs": [
    {
     "name": "stderr",
     "output_type": "stream",
     "text": [
      "/opt/miniconda3/envs/cmsc320/lib/python3.6/site-packages/ipykernel_launcher.py:13: TqdmDeprecationWarning: This function will be removed in tqdm==5.0.0\n",
      "Please use `tqdm.notebook.tqdm` instead of `tqdm.tqdm_notebook`\n",
      "  del sys.path[0]\n"
     ]
    },
    {
     "data": {
      "application/vnd.jupyter.widget-view+json": {
       "model_id": "e4e50ad1a32e4fb880578f76c56090b8",
       "version_major": 2,
       "version_minor": 0
      },
      "text/plain": [
       "HBox(children=(FloatProgress(value=0.0), HTML(value='')))"
      ]
     },
     "metadata": {},
     "output_type": "display_data"
    },
    {
     "name": "stdout",
     "output_type": "stream",
     "text": [
      "\n",
      "       id                                              title  \\\n",
      "0  fgi2pi  Even if COVID-19 is unavoidable, delaying infe...   \n",
      "1  fn1mtn  Gino Fasoli was 73 years old. He was italian a...   \n",
      "2  gdkt54  Irish people help raise 1.8 million dollars fo...   \n",
      "3  fn3j0w                 How to stop a virus from spreading   \n",
      "4  fxdwoa  All 11 Coronavirus patients in Greenland have ...   \n",
      "5  fjcz60  An Italian hospital ran out of ICU valves. A l...   \n",
      "6  fl0pdv  Mark Cuban says bailed out companies should ne...   \n",
      "7  fo78n6  Governor Cuomo: “My mother is not expendable. ...   \n",
      "8  fnohv7  Let’s be clear. Again. The virus does not spre...   \n",
      "9  g03smi  Kentucky church fills Easter service to near c...   \n",
      "\n",
      "              author author_flair  author_link_karma  author_comment_karma  \\\n",
      "0           finchdad         None              45598                120725   \n",
      "1          Franky_95         None              25650                  1779   \n",
      "2      willmannix123         None              10991                  2999   \n",
      "3             gluuey         None              36903                  4171   \n",
      "4           mich4725         None              36974                 30040   \n",
      "5             ssldvr         None             263972                206736   \n",
      "6  SingularityWalker         None              25618                 10394   \n",
      "7          jigsawmap         None             993317                 45693   \n",
      "8            ihazone         None             216994                  7654   \n",
      "9               None         None                 -1                    -1   \n",
      "\n",
      "   author_start_date                   flair  upvotes  upvote_ratio  comments  \\\n",
      "0       1.409673e+09    Video/Image (/r/all)   130343          0.97      4437   \n",
      "1       1.518444e+09         Europe (/r/all)   119963          0.95      1856   \n",
      "2       1.469910e+09               Good News   116341          0.95      2307   \n",
      "3       1.563420e+09    Video/Image (/r/all)   107079          0.96      2222   \n",
      "4       1.425764e+09      Good News (/r/all)   104904          0.96      2498   \n",
      "5       1.378391e+09      Good News (/r/all)   100397          0.97      1418   \n",
      "6       1.571241e+09  Breaks Rule 3 (/r/all)    99885          0.94      1328   \n",
      "7       1.573650e+09            USA (/r/all)    94073          0.90      3739   \n",
      "8       1.565875e+09          World (/r/all)    91983          0.90      3347   \n",
      "9      -1.000000e+00            USA (/r/all)    91677          0.92      3737   \n",
      "\n",
      "   crossposts  type edited  gilded  silver  gold  platinum  total_awards  \n",
      "0         109  link  False    True      12     9         2            55  \n",
      "1          26  link  False    True       6     2         2            33  \n",
      "2          34  link  False    True       2     7         0            21  \n",
      "3         127  link  False    True       7     5         2            36  \n",
      "4          23  link  False    True       0     1         0            10  \n",
      "5          63  link  False    True       0     5         0            21  \n",
      "6          10  link  False   False       1     0         1             8  \n",
      "7          19  link  False    True       6     3         1            29  \n",
      "8          29  link  False    True       2     2         0            12  \n",
      "9          23  link  False    True       1     1         0             7  \n"
     ]
    }
   ],
   "source": [
    "# initialize praw instance\n",
    "reddit = praw.Reddit(client_id=\"BntfP_snMrMyVQ\", client_secret=\"m2VtNI8UehvHELrVeoXyrR_SFY4\", user_agent=\"my user agent\")\n",
    "\n",
    "# get dataset 1, a set of reddit posts\n",
    "# choose a subreddit to scrape (for example, \"news\" for reddit.com/r/news) and scrape top N posts\n",
    "# in this case we get the top 100 posts from the /r/coronavirus subreddit\n",
    "n = 100\n",
    "sub = reddit.subreddit(\"coronavirus\")\n",
    "posts = reddit.subreddit(\"coronavirus\").top(limit=n)\n",
    "\n",
    "# extract attributes from posts\n",
    "posts_data = []\n",
    "for p in tqdm_notebook(posts, total=n):\n",
    "  # check if author is deleted or suspended\n",
    "  banned = True if p.author == None else False\n",
    "  try:\n",
    "    c = p.author.created\n",
    "  except AttributeError:\n",
    "    banned = True\n",
    "\n",
    "  # load attributes into dataframe\n",
    "  posts_data.append({'id': p.id, \n",
    "                     'title': p.title,\n",
    "                     'author': p.author.name if not banned else None,\n",
    "                     'author_flair': p.author_flair_text,\n",
    "                     'author_link_karma': p.author.link_karma if not banned else -1,\n",
    "                     'author_comment_karma': p.author.comment_karma if not banned else -1,\n",
    "                     'author_start_date': p.author.created_utc if not banned else -1,\n",
    "                     'flair': p.link_flair_text,\n",
    "                     'upvotes': p.ups,\n",
    "                     'upvote_ratio': p.upvote_ratio,\n",
    "                     'comments': p.num_comments,\n",
    "                     'crossposts': p.num_crossposts,\n",
    "                     'type': 'self' if p.is_self else 'link',\n",
    "                     'edited': p.edited,\n",
    "                     'gilded': p.gilded > 0,\n",
    "                     'silver': p.gildings.get('gid_1', 0), # various types of awards users can give reddit posts below\n",
    "                     'gold': p.gildings.get('gid_2', 0),\n",
    "                     'platinum': p.gildings.get('gid_3', 0),\n",
    "                     'total_awards': p.total_awards_received\n",
    "                     })\n",
    "  \n",
    "# show first 10 rows of post data\n",
    "posts_df = pd.DataFrame(posts_data)\n",
    "pd.set_option('display.max_columns', None)\n",
    "print(posts_df[:10])"
   ]
  },
  {
   "cell_type": "code",
   "execution_count": 3,
   "metadata": {
    "colab": {
     "base_uri": "https://localhost:8080/",
     "height": 712,
     "referenced_widgets": [
      "7ee9ecd0fdc547edb42b98d010d73f1b",
      "a3e0844f07c2459784de8b199971dcf3",
      "56d186d941954c5aa86b8c0faab66801",
      "3af894a801dd4976a997d9ee092f89c1",
      "afbacc034c1d4f1c88820e713a93e1a3",
      "365279826cde49aeb82f6676d1025d94",
      "c1ca9323dfc1453cb9bf3afd8fff455f",
      "44b38d75b1ed4741baa9f656431e23de"
     ]
    },
    "colab_type": "code",
    "id": "bsvN0lPfV1WS",
    "outputId": "06b5d05b-3b0d-43ac-a90c-6ab2997a1db8"
   },
   "outputs": [
    {
     "name": "stderr",
     "output_type": "stream",
     "text": [
      "/opt/miniconda3/envs/cmsc320/lib/python3.6/site-packages/ipykernel_launcher.py:12: TqdmDeprecationWarning: This function will be removed in tqdm==5.0.0\n",
      "Please use `tqdm.notebook.tqdm` instead of `tqdm.tqdm_notebook`\n",
      "  if sys.path[0] == '':\n"
     ]
    },
    {
     "data": {
      "application/vnd.jupyter.widget-view+json": {
       "model_id": "72c47e52394d49de9e4abe65cf36fc15",
       "version_major": 2,
       "version_minor": 0
      },
      "text/plain": [
       "HBox(children=(FloatProgress(value=0.0, max=411.0), HTML(value='')))"
      ]
     },
     "metadata": {},
     "output_type": "display_data"
    },
    {
     "name": "stdout",
     "output_type": "stream",
     "text": [
      "\n",
      "        id                                               body  \\\n",
      "0  dbvei4j  Just a quick mod note. \\n\\nWe made ourselves S...   \n",
      "1  dbv6rwb  Thought for sure this was coming from /r/subre...   \n",
      "2  dbv6f0b                                             RIGGED   \n",
      "3  dbv6jl2  Pack it up everyone, this sub's done, they're ...   \n",
      "4  dbv6tgz       Would have made a great April Fool's prank.    \n",
      "5  dbv6ezt                                        Inception.    \n",
      "6  dbv7ptx                                 **INCEPTION HORN**   \n",
      "7  dbv8oan                         Tomorrow /r/autofellatio/.   \n",
      "8  dbv9712                 This kinda seems like masturbation   \n",
      "9  dbv9bs9                                          [deleted]   \n",
      "\n",
      "              author      author_flair  author_link_karma  \\\n",
      "0          ZadocPaet  biggest joystick            2101826   \n",
      "1       p1um5mu991er              None               1682   \n",
      "2         Herr_Gamer              None             112230   \n",
      "3        EmperorJake              None              19906   \n",
      "4            btadeus              None                485   \n",
      "5       blackbeard97              None               3792   \n",
      "6    The_Cute_Dragon              None              18040   \n",
      "7  Thatonetimeatcamp              None                901   \n",
      "8        TheLynguist              None                726   \n",
      "9               None              None                  0   \n",
      "\n",
      "   author_comment_karma  author_start_date author_submitted  upvotes  edited  \n",
      "0                278929       1.358299e+09            False        1   False  \n",
      "1               1419126       1.358800e+09            False     3100   False  \n",
      "2                 97208       1.404398e+09            False     4330   False  \n",
      "3                 47306       1.329474e+09            False     1268   False  \n",
      "4                 28699       1.328825e+09            False      378   False  \n",
      "5                 23297       1.406811e+09            False      190   False  \n",
      "6                 49605       1.438289e+09            False      156   False  \n",
      "7                  1538       1.356103e+09            False      129   False  \n",
      "8                 18640       1.380385e+09            False       57   False  \n",
      "9                     0       0.000000e+00                0       45   False  \n"
     ]
    }
   ],
   "source": [
    "# get dataset 3, a set of reddit comments\n",
    "# choose a post to scrape (you can get the post id from its url) and scrape all comments\n",
    "# in this case we get comments from the top post of all time on the /r/coronavirus subreddit\n",
    "n = 1\n",
    "sub = reddit.subreddit(\"subredditoftheday\")\n",
    "post = next(reddit.subreddit(\"subredditoftheday\").top(limit=n))\n",
    "post.comments.replace_more(limit=None)\n",
    "comments = post.comments.list()\n",
    "\n",
    "# extract attributes from comments\n",
    "comments_data = []\n",
    "for c in tqdm_notebook(comments, total=post.num_comments):\n",
    "  # check if author is deleted or suspended\n",
    "  banned = True if c.author == None else False\n",
    "  try:\n",
    "    t = c.author.created\n",
    "  except Exception as e:\n",
    "    banned = True\n",
    "\n",
    "  # load attributes into dataframe\n",
    "  comments_data.append({'id': c.id, \n",
    "                     'body': c.body,\n",
    "                     'author': c.author.name if not banned else None,\n",
    "                     'author_flair': c.author_flair_text,\n",
    "                     'author_link_karma': c.author.link_karma if not banned else 0,\n",
    "                     'author_comment_karma': c.author.comment_karma if not banned else 0,\n",
    "                     'author_start_date': c.author.created_utc if not banned else 0,\n",
    "                     'author_submitted': c.is_submitter if not banned else 0,\n",
    "                     'upvotes': c.score,\n",
    "                     'edited': p.edited\n",
    "                     })\n",
    "  \n",
    "# show first 10 rows of post data\n",
    "comments_df = pd.DataFrame(comments_data)\n",
    "print(comments_df[:10])"
   ]
  },
  {
   "cell_type": "markdown",
   "metadata": {
    "colab_type": "text",
    "id": "txjbazcIgpph"
   },
   "source": [
    "## **Part 3) Exploratory Data Analysis with Plots**\n",
    "Now that we have a pair of robust data sets containing reddit post information and reddit comment information, we can conduct some basic analysis to begin to understand the shape and properties of our data and get a better of idea of what kind of questions to ask during more involved analysis later on. In the following code we give a few examples of ways to create plots that give new insight into the properties of our reddit data easily with our two plotting libraries, matplotlib and seaborn."
   ]
  },
  {
   "cell_type": "markdown",
   "metadata": {
    "colab_type": "text",
    "id": "fRBroVZWxUMb"
   },
   "source": [
    "### **Part 3a) Scatter Plot: Comment Score vs. Comment Author Score**\n",
    "*Question: For \"representative\" comments in the comments dataset, is there any correlation between the score a user got with their comment and their overall score on reddit as a whole?* \n",
    "\n",
    "We define “representative” comments as those whose score and user score are within some small distance in either direction of the median (we use resistant statistics because of reddit comment scores’ distributions’ propensity to have outliers). With this definition in mind, we examine the answer to this question by extracting such comments from the thread and plotting comment score against comment author overall link score and comment author overall comment score (i.e. we plot the points a user got for each comment against the total number of points that user has earned over all time on reddit across all their link posts and all their comments, respectively).\n",
    "\n",
    "For more information on scatter plot rules in general and the construction of a matplotlib scatter plot, check the matplotlib scatter plot docs here: https://matplotlib.org/3.2.0/api/_as_gen/matplotlib.pyplot.scatter.html. These docs also give information on creating and manipulating a number of other matplotlib plots.\n"
   ]
  },
  {
   "cell_type": "code",
   "execution_count": 4,
   "metadata": {
    "colab": {
     "base_uri": "https://localhost:8080/",
     "height": 713
    },
    "colab_type": "code",
    "id": "I7iZGYecwm1n",
    "outputId": "89a2c36b-3eef-4c09-db7b-4a310b85a0a0"
   },
   "outputs": [
    {
     "data": {
      "image/png": "[encoded data removed]",
      "text/plain": [
       "<Figure size 1296x756 with 1 Axes>"
      ]
     },
     "metadata": {},
     "output_type": "display_data"
    }
   ],
   "source": [
    "# get comments in a representative range, mainly to exclude outliers from high-scorers or banned accounts with 0 score\n",
    "upvote_range = 50\n",
    "median = comments_df['upvotes'].median()\n",
    "top_comments = comments_df[comments_df['upvotes'].between(median - upvote_range, median + upvote_range)]\n",
    "\n",
    "\n",
    "# arrange upvotes on x axis and link + comment score on y axis\n",
    "scatter_x = np.concatenate([np.array(top_comments['upvotes']), np.array(top_comments['upvotes'])])\n",
    "scatter_y = np.concatenate([np.array(top_comments['author_link_karma']), np.array(top_comments['author_comment_karma'])])\n",
    "\n",
    "# assign legend groups to link and comment score, label blue and orange respectively\n",
    "group = [1] * len(top_comments['author_link_karma']) + [2] * len(top_comments['author_comment_karma'])\n",
    "cdict = {1: 'blue', 2: 'orange'}\n",
    "\n",
    "# create scatter plot\n",
    "fig, ax = plt.subplots()\n",
    "fig.set_size_inches(18,10.5)\n",
    "\n",
    "# for each legend group\n",
    "for g in np.unique(group):\n",
    "    # plot dots corresponding to this group\n",
    "    ix = np.where(group == g)\n",
    "    ax.scatter(scatter_x[ix], scatter_y[ix], c = cdict[g], label = g, s = 100)\n",
    "\n",
    "# label plot\n",
    "L = ax.legend()\n",
    "L.get_texts()[0].set_text('Author Overall Link Score')\n",
    "L.get_texts()[1].set_text('Author Overall Comment Score')\n",
    "fig.suptitle('Representative Comment Score vs. Comment Author Overall Link & Comment Score', fontsize=20)\n",
    "plt.xlabel('Comment Score', fontsize=15)\n",
    "plt.ylabel('Author Overall Score', fontsize=15)\n",
    "plt.show()"
   ]
  },
  {
   "cell_type": "markdown",
   "metadata": {
    "colab_type": "text",
    "id": "QN1EPCw99fn_"
   },
   "source": [
    "### **Analysis**\n",
    "From the plot, we cannot infer any strong correlation between comment score and overall score. Contrary to what we might have expected, the distribution of overall link and comment scores is roughly unimodal with a mode somewhat below the median comment score. Scatter plots can be excellent at giving hints at the relationship between two variables like this."
   ]
  },
  {
   "cell_type": "markdown",
   "metadata": {
    "colab_type": "text",
    "id": "CZ9NJROeAOe1"
   },
   "source": [
    "### **Part 3b) Box Plot: Distributions of Score and Comments for Posts with Awards**\n",
    "*Question: Can we compare the ranges and distributions of score and comment count for posts which have received reddit awards vs. those which have not?*\n",
    "\n",
    "One good type of plot to answer this question is a box plot. We can construct a simple box plot with seaborn as shown:\n",
    "\n",
    "For more information on the details of creating boxplots with seaborn, check the seaborn docs on boxplots: https://seaborn.pydata.org/generated/seaborn.boxplot.html. These docs also give examples on using seaborn to create a variety of other plots."
   ]
  },
  {
   "cell_type": "code",
   "execution_count": null,
   "metadata": {
    "colab": {
     "base_uri": "https://localhost:8080/",
     "height": 1000
    },
    "colab_type": "code",
    "id": "3WOK4UqFBPol",
    "outputId": "9a389f6b-8211-4464-b7de-67dcff52371e"
   },
   "outputs": [
    {
     "data": {
      "image/png": "[encoded data removed]",
      "text/plain": [
       "<Figure size 720x720 with 1 Axes>"
      ]
     },
     "metadata": {
      "needs_background": "light",
      "tags": []
     },
     "output_type": "display_data"
    },
    {
     "data": {
      "image/png": "[encoded data removed]",
      "text/plain": [
       "<Figure size 720x720 with 1 Axes>"
      ]
     },
     "metadata": {
      "needs_background": "light",
      "tags": []
     },
     "output_type": "display_data"
    }
   ],
   "source": [
    "# create boxplot showing upvotes by award status\n",
    "fig, ax = plt.subplots(figsize=(10,  10))\n",
    "posts_df.boxplot(['upvotes'], 'gilded', ax)\n",
    "fig.suptitle('Score Distributions of Posts with Awards and Without', fontsize=20)\n",
    "plt.xlabel('Post Given Award?', fontsize=15)\n",
    "plt.ylabel('Post Score', fontsize=15)\n",
    "plt.show()\n",
    "\n",
    "# create boxplot showing comments by award status\n",
    "fig, ax = plt.subplots(figsize=(10,  10))\n",
    "posts_df.boxplot(['comments'], 'gilded', ax)\n",
    "fig.suptitle('Comments Distributions of Posts with Awards and Without', fontsize=20)\n",
    "plt.xlabel('Post Given Award?', fontsize=15)\n",
    "plt.ylabel('Post Comments', fontsize=15)\n",
    "plt.show()"
   ]
  },
  {
   "cell_type": "markdown",
   "metadata": {
    "colab_type": "text",
    "id": "tP3KaHrgBnfO"
   },
   "source": [
    "### **Analysis**\n",
    "From the first plot we can conclude that the range of scores within the 2nd and 3rd quartile increase significantly for posts that have been given awards, and the long tail representing the 4th quartile further suggests that the range of possibilities for post score among posts with awards is much greater than that of posts without awards. The second plot indicates a similar trend for comment counts of posts with awards, but the difference in 2nd and 3rd quartile range as well as 4th quartile range is not nearly as distinct in this case. These box plots imply that posts which receive awards are more likely to receive positive engagement and engagement overall."
   ]
  },
  {
   "cell_type": "markdown",
   "metadata": {
    "colab_type": "text",
    "id": "v55aaafgBwj6"
   },
   "source": [
    "## **Part 4) Hypothesis Testing**\n",
    "\n",
    "Now that we have visualized our data sets containing reddit post information and reddit comment information, we can conduct some basic hypothesis testing to analyze the relationship between different sets of variables. In the following code we demonstrate linear regression with ordinary least squares to give us more detail about the relationships we looked at above. We use functions from statsmodels to acheive this. More information about these functions can be found here: https://www.statsmodels.org/dev/examples/notebooks/generated/ols.html\n",
    "\n",
    "### **Part 4a) OLS: Comment Score vs. Comment Author Score**\n",
    "\n",
    "Going back to the question we looked at above: \n",
    "*Question: For \"representative\" comments in the comments dataset, is there any correlation between the score a user got with their comment and their overall score on reddit as a whole?* \n",
    "\n",
    "We can first look at the relationship between comment score and comment author overall link score, then comment score and comment author overall comment score."
   ]
  },
  {
   "cell_type": "code",
   "execution_count": 7,
   "metadata": {},
   "outputs": [
    {
     "data": {
      "text/html": [
       "<table class=\"simpletable\">\n",
       "<caption>OLS Regression Results</caption>\n",
       "<tr>\n",
       "  <th>Dep. Variable:</th>    <td>author_link_karma</td> <th>  R-squared:         </th> <td>   0.001</td> \n",
       "</tr>\n",
       "<tr>\n",
       "  <th>Model:</th>                   <td>OLS</td>        <th>  Adj. R-squared:    </th> <td>  -0.001</td> \n",
       "</tr>\n",
       "<tr>\n",
       "  <th>Method:</th>             <td>Least Squares</td>   <th>  F-statistic:       </th> <td>  0.5311</td> \n",
       "</tr>\n",
       "<tr>\n",
       "  <th>Date:</th>             <td>Wed, 13 May 2020</td>  <th>  Prob (F-statistic):</th>  <td> 0.467</td>  \n",
       "</tr>\n",
       "<tr>\n",
       "  <th>Time:</th>                 <td>16:38:26</td>      <th>  Log-Likelihood:    </th> <td> -5300.3</td> \n",
       "</tr>\n",
       "<tr>\n",
       "  <th>No. Observations:</th>      <td>   381</td>       <th>  AIC:               </th> <td>1.060e+04</td>\n",
       "</tr>\n",
       "<tr>\n",
       "  <th>Df Residuals:</th>          <td>   379</td>       <th>  BIC:               </th> <td>1.061e+04</td>\n",
       "</tr>\n",
       "<tr>\n",
       "  <th>Df Model:</th>              <td>     1</td>       <th>                     </th>     <td> </td>    \n",
       "</tr>\n",
       "<tr>\n",
       "  <th>Covariance Type:</th>      <td>nonrobust</td>     <th>                     </th>     <td> </td>    \n",
       "</tr>\n",
       "</table>\n",
       "<table class=\"simpletable\">\n",
       "<tr>\n",
       "      <td></td>         <th>coef</th>     <th>std err</th>      <th>t</th>      <th>P>|t|</th>  <th>[0.025</th>    <th>0.975]</th>  \n",
       "</tr>\n",
       "<tr>\n",
       "  <th>Intercept</th> <td> 6.178e+04</td> <td> 1.63e+04</td> <td>    3.801</td> <td> 0.000</td> <td> 2.98e+04</td> <td> 9.37e+04</td>\n",
       "</tr>\n",
       "<tr>\n",
       "  <th>upvotes</th>   <td>-1011.2805</td> <td> 1387.647</td> <td>   -0.729</td> <td> 0.467</td> <td>-3739.731</td> <td> 1717.170</td>\n",
       "</tr>\n",
       "</table>\n",
       "<table class=\"simpletable\">\n",
       "<tr>\n",
       "  <th>Omnibus:</th>       <td>528.402</td> <th>  Durbin-Watson:     </th> <td>   1.203</td> \n",
       "</tr>\n",
       "<tr>\n",
       "  <th>Prob(Omnibus):</th> <td> 0.000</td>  <th>  Jarque-Bera (JB):  </th> <td>45536.747</td>\n",
       "</tr>\n",
       "<tr>\n",
       "  <th>Skew:</th>          <td> 7.178</td>  <th>  Prob(JB):          </th> <td>    0.00</td> \n",
       "</tr>\n",
       "<tr>\n",
       "  <th>Kurtosis:</th>      <td>54.598</td>  <th>  Cond. No.          </th> <td>    13.9</td> \n",
       "</tr>\n",
       "</table><br/><br/>Warnings:<br/>[1] Standard Errors assume that the covariance matrix of the errors is correctly specified."
      ],
      "text/plain": [
       "<class 'statsmodels.iolib.summary.Summary'>\n",
       "\"\"\"\n",
       "                            OLS Regression Results                            \n",
       "==============================================================================\n",
       "Dep. Variable:      author_link_karma   R-squared:                       0.001\n",
       "Model:                            OLS   Adj. R-squared:                 -0.001\n",
       "Method:                 Least Squares   F-statistic:                    0.5311\n",
       "Date:                Wed, 13 May 2020   Prob (F-statistic):              0.467\n",
       "Time:                        16:38:26   Log-Likelihood:                -5300.3\n",
       "No. Observations:                 381   AIC:                         1.060e+04\n",
       "Df Residuals:                     379   BIC:                         1.061e+04\n",
       "Df Model:                           1                                         \n",
       "Covariance Type:            nonrobust                                         \n",
       "==============================================================================\n",
       "                 coef    std err          t      P>|t|      [0.025      0.975]\n",
       "------------------------------------------------------------------------------\n",
       "Intercept   6.178e+04   1.63e+04      3.801      0.000    2.98e+04    9.37e+04\n",
       "upvotes    -1011.2805   1387.647     -0.729      0.467   -3739.731    1717.170\n",
       "==============================================================================\n",
       "Omnibus:                      528.402   Durbin-Watson:                   1.203\n",
       "Prob(Omnibus):                  0.000   Jarque-Bera (JB):            45536.747\n",
       "Skew:                           7.178   Prob(JB):                         0.00\n",
       "Kurtosis:                      54.598   Cond. No.                         13.9\n",
       "==============================================================================\n",
       "\n",
       "Warnings:\n",
       "[1] Standard Errors assume that the covariance matrix of the errors is correctly specified.\n",
       "\"\"\""
      ]
     },
     "execution_count": 7,
     "metadata": {},
     "output_type": "execute_result"
    }
   ],
   "source": [
    "link_upvote_corr = sm.ols('author_link_karma~upvotes', data=top_comments).fit()\n",
    "link_upvote_corr.summary()"
   ]
  },
  {
   "cell_type": "markdown",
   "metadata": {},
   "source": [
    "### Analysis\n",
    "\n",
    "When we fit a linear regression model of author link karma vs. upvotes, and test for a relationship between upvotes and author link karma, we do not reject the null hypothesis of no relationship because we have a p value of 0.467 which is way above our significance level of 0.05. Our model says that for each upvote, there is a -1011 decrease in author link karma, but again, this is not statistically significant.\n",
    "\n",
    "This isn't what one would expect, as you would probably expect that that the more upvotes you have on a comment, the higher link karma you have. However, we suspect the reason why it's such a large negative number is because some users' link karma is so high, it skewed the data. Looking at our scatter plot before, we see that there are a couple points that are above a million. When the comment ranges from -10 to 50, these outlier points can make a big difference on the slope of the line.\n",
    "\n",
    "Now let’s look at the relationship between comment score and comment author overall comment score."
   ]
  },
  {
   "cell_type": "code",
   "execution_count": 8,
   "metadata": {},
   "outputs": [
    {
     "data": {
      "text/html": [
       "<table class=\"simpletable\">\n",
       "<caption>OLS Regression Results</caption>\n",
       "<tr>\n",
       "  <th>Dep. Variable:</th>    <td>author_comment_karma</td> <th>  R-squared:         </th> <td>   0.004</td> \n",
       "</tr>\n",
       "<tr>\n",
       "  <th>Model:</th>                     <td>OLS</td>         <th>  Adj. R-squared:    </th> <td>   0.001</td> \n",
       "</tr>\n",
       "<tr>\n",
       "  <th>Method:</th>               <td>Least Squares</td>    <th>  F-statistic:       </th> <td>   1.455</td> \n",
       "</tr>\n",
       "<tr>\n",
       "  <th>Date:</th>               <td>Wed, 13 May 2020</td>   <th>  Prob (F-statistic):</th>  <td> 0.229</td>  \n",
       "</tr>\n",
       "<tr>\n",
       "  <th>Time:</th>                   <td>16:38:49</td>       <th>  Log-Likelihood:    </th> <td> -5197.5</td> \n",
       "</tr>\n",
       "<tr>\n",
       "  <th>No. Observations:</th>        <td>   381</td>        <th>  AIC:               </th> <td>1.040e+04</td>\n",
       "</tr>\n",
       "<tr>\n",
       "  <th>Df Residuals:</th>            <td>   379</td>        <th>  BIC:               </th> <td>1.041e+04</td>\n",
       "</tr>\n",
       "<tr>\n",
       "  <th>Df Model:</th>                <td>     1</td>        <th>                     </th>     <td> </td>    \n",
       "</tr>\n",
       "<tr>\n",
       "  <th>Covariance Type:</th>        <td>nonrobust</td>      <th>                     </th>     <td> </td>    \n",
       "</tr>\n",
       "</table>\n",
       "<table class=\"simpletable\">\n",
       "<tr>\n",
       "      <td></td>         <th>coef</th>     <th>std err</th>      <th>t</th>      <th>P>|t|</th>  <th>[0.025</th>    <th>0.975]</th>  \n",
       "</tr>\n",
       "<tr>\n",
       "  <th>Intercept</th> <td> 7.409e+04</td> <td> 1.24e+04</td> <td>    5.970</td> <td> 0.000</td> <td> 4.97e+04</td> <td> 9.85e+04</td>\n",
       "</tr>\n",
       "<tr>\n",
       "  <th>upvotes</th>   <td> 1277.8026</td> <td> 1059.422</td> <td>    1.206</td> <td> 0.229</td> <td> -805.278</td> <td> 3360.884</td>\n",
       "</tr>\n",
       "</table>\n",
       "<table class=\"simpletable\">\n",
       "<tr>\n",
       "  <th>Omnibus:</th>       <td>602.829</td> <th>  Durbin-Watson:     </th>  <td>   1.991</td> \n",
       "</tr>\n",
       "<tr>\n",
       "  <th>Prob(Omnibus):</th> <td> 0.000</td>  <th>  Jarque-Bera (JB):  </th> <td>138717.520</td>\n",
       "</tr>\n",
       "<tr>\n",
       "  <th>Skew:</th>          <td> 8.680</td>  <th>  Prob(JB):          </th>  <td>    0.00</td> \n",
       "</tr>\n",
       "<tr>\n",
       "  <th>Kurtosis:</th>      <td>94.852</td>  <th>  Cond. No.          </th>  <td>    13.9</td> \n",
       "</tr>\n",
       "</table><br/><br/>Warnings:<br/>[1] Standard Errors assume that the covariance matrix of the errors is correctly specified."
      ],
      "text/plain": [
       "<class 'statsmodels.iolib.summary.Summary'>\n",
       "\"\"\"\n",
       "                             OLS Regression Results                             \n",
       "================================================================================\n",
       "Dep. Variable:     author_comment_karma   R-squared:                       0.004\n",
       "Model:                              OLS   Adj. R-squared:                  0.001\n",
       "Method:                   Least Squares   F-statistic:                     1.455\n",
       "Date:                  Wed, 13 May 2020   Prob (F-statistic):              0.229\n",
       "Time:                          16:38:49   Log-Likelihood:                -5197.5\n",
       "No. Observations:                   381   AIC:                         1.040e+04\n",
       "Df Residuals:                       379   BIC:                         1.041e+04\n",
       "Df Model:                             1                                         \n",
       "Covariance Type:              nonrobust                                         \n",
       "==============================================================================\n",
       "                 coef    std err          t      P>|t|      [0.025      0.975]\n",
       "------------------------------------------------------------------------------\n",
       "Intercept   7.409e+04   1.24e+04      5.970      0.000    4.97e+04    9.85e+04\n",
       "upvotes     1277.8026   1059.422      1.206      0.229    -805.278    3360.884\n",
       "==============================================================================\n",
       "Omnibus:                      602.829   Durbin-Watson:                   1.991\n",
       "Prob(Omnibus):                  0.000   Jarque-Bera (JB):           138717.520\n",
       "Skew:                           8.680   Prob(JB):                         0.00\n",
       "Kurtosis:                      94.852   Cond. No.                         13.9\n",
       "==============================================================================\n",
       "\n",
       "Warnings:\n",
       "[1] Standard Errors assume that the covariance matrix of the errors is correctly specified.\n",
       "\"\"\""
      ]
     },
     "execution_count": 8,
     "metadata": {},
     "output_type": "execute_result"
    }
   ],
   "source": [
    "comment_upvote_corr = sm.ols('author_comment_karma~upvotes', data=top_comments).fit()\n",
    "comment_upvote_corr.summary()"
   ]
  },
  {
   "cell_type": "markdown",
   "metadata": {},
   "source": [
    "### Analysis\n",
    "\n",
    "When we fit a linear regression model of author comment karma vs. upvotes, and test for a relationship between upvotes and author comment karma, we also do not reject the null hypothesis of no relationship because we have a p value of 0.229 which is above our significance level of 0.05. Our model says that for each upvote, there is a 1277 increase in author comment karma, but again, this is not statistically significant.  \n",
    "\n",
    "This is what one would expect, as you would probably expect that that the more upvotes you have on a comment, the higher comment karma you have. However, the reason why the number is so big is because again, we have some outliers in the millions range. This probably skewed our data again despite our attempt to look at representative comments.\n",
    "\n",
    "### **Part 4b) OLS: Comment Author Score vs. Comment Score, Gilded**\n",
    "\n",
    "In addition, given what we saw with posts with awards vs without awards, we saw that the distribution of points was different for the two. With this information, it makes sense to check for an interaction term between number of upvotes and if their post recieved an award (for author comment/link karma).\n",
    "\n",
    "First let’s take a look at this for author comment karma."
   ]
  },
  {
   "cell_type": "code",
   "execution_count": 11,
   "metadata": {},
   "outputs": [
    {
     "data": {
      "text/html": [
       "<table class=\"simpletable\">\n",
       "<caption>OLS Regression Results</caption>\n",
       "<tr>\n",
       "  <th>Dep. Variable:</th>    <td>author_comment_karma</td> <th>  R-squared:         </th> <td>   0.009</td>\n",
       "</tr>\n",
       "<tr>\n",
       "  <th>Model:</th>                     <td>OLS</td>         <th>  Adj. R-squared:    </th> <td>  -0.022</td>\n",
       "</tr>\n",
       "<tr>\n",
       "  <th>Method:</th>               <td>Least Squares</td>    <th>  F-statistic:       </th> <td>  0.2759</td>\n",
       "</tr>\n",
       "<tr>\n",
       "  <th>Date:</th>               <td>Wed, 13 May 2020</td>   <th>  Prob (F-statistic):</th>  <td> 0.843</td> \n",
       "</tr>\n",
       "<tr>\n",
       "  <th>Time:</th>                   <td>19:48:06</td>       <th>  Log-Likelihood:    </th> <td> -1313.7</td>\n",
       "</tr>\n",
       "<tr>\n",
       "  <th>No. Observations:</th>        <td>   100</td>        <th>  AIC:               </th> <td>   2635.</td>\n",
       "</tr>\n",
       "<tr>\n",
       "  <th>Df Residuals:</th>            <td>    96</td>        <th>  BIC:               </th> <td>   2646.</td>\n",
       "</tr>\n",
       "<tr>\n",
       "  <th>Df Model:</th>                <td>     3</td>        <th>                     </th>     <td> </td>   \n",
       "</tr>\n",
       "<tr>\n",
       "  <th>Covariance Type:</th>        <td>nonrobust</td>      <th>                     </th>     <td> </td>   \n",
       "</tr>\n",
       "</table>\n",
       "<table class=\"simpletable\">\n",
       "<tr>\n",
       "             <td></td>               <th>coef</th>     <th>std err</th>      <th>t</th>      <th>P>|t|</th>  <th>[0.025</th>    <th>0.975]</th>  \n",
       "</tr>\n",
       "<tr>\n",
       "  <th>Intercept</th>              <td> 5.712e+04</td> <td> 1.03e+05</td> <td>    0.557</td> <td> 0.579</td> <td>-1.46e+05</td> <td> 2.61e+05</td>\n",
       "</tr>\n",
       "<tr>\n",
       "  <th>gilded[T.True]</th>         <td>-1.343e+04</td> <td> 1.21e+05</td> <td>   -0.111</td> <td> 0.912</td> <td>-2.54e+05</td> <td> 2.27e+05</td>\n",
       "</tr>\n",
       "<tr>\n",
       "  <th>upvotes</th>                <td>   -0.2072</td> <td>    1.675</td> <td>   -0.124</td> <td> 0.902</td> <td>   -3.532</td> <td>    3.118</td>\n",
       "</tr>\n",
       "<tr>\n",
       "  <th>upvotes:gilded[T.True]</th> <td>    0.5119</td> <td>    1.887</td> <td>    0.271</td> <td> 0.787</td> <td>   -3.233</td> <td>    4.257</td>\n",
       "</tr>\n",
       "</table>\n",
       "<table class=\"simpletable\">\n",
       "<tr>\n",
       "  <th>Omnibus:</th>       <td>117.057</td> <th>  Durbin-Watson:     </th> <td>   1.991</td>\n",
       "</tr>\n",
       "<tr>\n",
       "  <th>Prob(Omnibus):</th> <td> 0.000</td>  <th>  Jarque-Bera (JB):  </th> <td>1808.453</td>\n",
       "</tr>\n",
       "<tr>\n",
       "  <th>Skew:</th>          <td> 4.055</td>  <th>  Prob(JB):          </th> <td>    0.00</td>\n",
       "</tr>\n",
       "<tr>\n",
       "  <th>Kurtosis:</th>      <td>22.190</td>  <th>  Cond. No.          </th> <td>9.96e+05</td>\n",
       "</tr>\n",
       "</table><br/><br/>Warnings:<br/>[1] Standard Errors assume that the covariance matrix of the errors is correctly specified.<br/>[2] The condition number is large, 9.96e+05. This might indicate that there are<br/>strong multicollinearity or other numerical problems."
      ],
      "text/plain": [
       "<class 'statsmodels.iolib.summary.Summary'>\n",
       "\"\"\"\n",
       "                             OLS Regression Results                             \n",
       "================================================================================\n",
       "Dep. Variable:     author_comment_karma   R-squared:                       0.009\n",
       "Model:                              OLS   Adj. R-squared:                 -0.022\n",
       "Method:                   Least Squares   F-statistic:                    0.2759\n",
       "Date:                  Wed, 13 May 2020   Prob (F-statistic):              0.843\n",
       "Time:                          19:48:06   Log-Likelihood:                -1313.7\n",
       "No. Observations:                   100   AIC:                             2635.\n",
       "Df Residuals:                        96   BIC:                             2646.\n",
       "Df Model:                             3                                         \n",
       "Covariance Type:              nonrobust                                         \n",
       "==========================================================================================\n",
       "                             coef    std err          t      P>|t|      [0.025      0.975]\n",
       "------------------------------------------------------------------------------------------\n",
       "Intercept               5.712e+04   1.03e+05      0.557      0.579   -1.46e+05    2.61e+05\n",
       "gilded[T.True]         -1.343e+04   1.21e+05     -0.111      0.912   -2.54e+05    2.27e+05\n",
       "upvotes                   -0.2072      1.675     -0.124      0.902      -3.532       3.118\n",
       "upvotes:gilded[T.True]     0.5119      1.887      0.271      0.787      -3.233       4.257\n",
       "==============================================================================\n",
       "Omnibus:                      117.057   Durbin-Watson:                   1.991\n",
       "Prob(Omnibus):                  0.000   Jarque-Bera (JB):             1808.453\n",
       "Skew:                           4.055   Prob(JB):                         0.00\n",
       "Kurtosis:                      22.190   Cond. No.                     9.96e+05\n",
       "==============================================================================\n",
       "\n",
       "Warnings:\n",
       "[1] Standard Errors assume that the covariance matrix of the errors is correctly specified.\n",
       "[2] The condition number is large, 9.96e+05. This might indicate that there are\n",
       "strong multicollinearity or other numerical problems.\n",
       "\"\"\""
      ]
     },
     "execution_count": 11,
     "metadata": {},
     "output_type": "execute_result"
    }
   ],
   "source": [
    "link_upvote_corr_inter = sm.ols('author_comment_karma~upvotes*gilded', data=posts_df).fit()\n",
    "link_upvote_corr_inter.summary()"
   ]
  },
  {
   "cell_type": "markdown",
   "metadata": {},
   "source": [
    "### Analysis\n",
    "\n",
    "For author comment karma, when we check for an interaction term, we do not reject the null hypothedis for no relationship because we get a p value of 0.902 and 0.787, respectively, for the posts without and with awards. Our model says that for posts without awards, for every upvote, there is a 0.207 decrease in the author's comment karma, and for posts with awards, for every upvote, there is an 0.304 increase in the author's comment karma. This makes sense as if a post has an award, the author of the comment is probably good at writing comments, but again, these are not statistically significant results. \n",
    "\n",
    "Now, let’s take a look at this for author link karma."
   ]
  },
  {
   "cell_type": "code",
   "execution_count": 12,
   "metadata": {},
   "outputs": [
    {
     "data": {
      "text/html": [
       "<table class=\"simpletable\">\n",
       "<caption>OLS Regression Results</caption>\n",
       "<tr>\n",
       "  <th>Dep. Variable:</th>    <td>author_link_karma</td> <th>  R-squared:         </th> <td>   0.020</td>\n",
       "</tr>\n",
       "<tr>\n",
       "  <th>Model:</th>                   <td>OLS</td>        <th>  Adj. R-squared:    </th> <td>  -0.010</td>\n",
       "</tr>\n",
       "<tr>\n",
       "  <th>Method:</th>             <td>Least Squares</td>   <th>  F-statistic:       </th> <td>  0.6688</td>\n",
       "</tr>\n",
       "<tr>\n",
       "  <th>Date:</th>             <td>Wed, 13 May 2020</td>  <th>  Prob (F-statistic):</th>  <td> 0.573</td> \n",
       "</tr>\n",
       "<tr>\n",
       "  <th>Time:</th>                 <td>19:48:47</td>      <th>  Log-Likelihood:    </th> <td> -1512.0</td>\n",
       "</tr>\n",
       "<tr>\n",
       "  <th>No. Observations:</th>      <td>   100</td>       <th>  AIC:               </th> <td>   3032.</td>\n",
       "</tr>\n",
       "<tr>\n",
       "  <th>Df Residuals:</th>          <td>    96</td>       <th>  BIC:               </th> <td>   3042.</td>\n",
       "</tr>\n",
       "<tr>\n",
       "  <th>Df Model:</th>              <td>     3</td>       <th>                     </th>     <td> </td>   \n",
       "</tr>\n",
       "<tr>\n",
       "  <th>Covariance Type:</th>      <td>nonrobust</td>     <th>                     </th>     <td> </td>   \n",
       "</tr>\n",
       "</table>\n",
       "<table class=\"simpletable\">\n",
       "<tr>\n",
       "             <td></td>               <th>coef</th>     <th>std err</th>      <th>t</th>      <th>P>|t|</th>  <th>[0.025</th>    <th>0.975]</th>  \n",
       "</tr>\n",
       "<tr>\n",
       "  <th>Intercept</th>              <td> 5.618e+05</td> <td> 7.45e+05</td> <td>    0.754</td> <td> 0.453</td> <td>-9.18e+05</td> <td> 2.04e+06</td>\n",
       "</tr>\n",
       "<tr>\n",
       "  <th>gilded[T.True]</th>         <td> 4.552e+05</td> <td>  8.8e+05</td> <td>    0.517</td> <td> 0.606</td> <td>-1.29e+06</td> <td>  2.2e+06</td>\n",
       "</tr>\n",
       "<tr>\n",
       "  <th>upvotes</th>                <td>   -3.3223</td> <td>   12.173</td> <td>   -0.273</td> <td> 0.785</td> <td>  -27.485</td> <td>   20.841</td>\n",
       "</tr>\n",
       "<tr>\n",
       "  <th>upvotes:gilded[T.True]</th> <td>   -5.3551</td> <td>   13.711</td> <td>   -0.391</td> <td> 0.697</td> <td>  -32.571</td> <td>   21.861</td>\n",
       "</tr>\n",
       "</table>\n",
       "<table class=\"simpletable\">\n",
       "<tr>\n",
       "  <th>Omnibus:</th>       <td>134.918</td> <th>  Durbin-Watson:     </th> <td>   1.388</td>\n",
       "</tr>\n",
       "<tr>\n",
       "  <th>Prob(Omnibus):</th> <td> 0.000</td>  <th>  Jarque-Bera (JB):  </th> <td>3407.970</td>\n",
       "</tr>\n",
       "<tr>\n",
       "  <th>Skew:</th>          <td> 4.801</td>  <th>  Prob(JB):          </th> <td>    0.00</td>\n",
       "</tr>\n",
       "<tr>\n",
       "  <th>Kurtosis:</th>      <td>29.939</td>  <th>  Cond. No.          </th> <td>9.96e+05</td>\n",
       "</tr>\n",
       "</table><br/><br/>Warnings:<br/>[1] Standard Errors assume that the covariance matrix of the errors is correctly specified.<br/>[2] The condition number is large, 9.96e+05. This might indicate that there are<br/>strong multicollinearity or other numerical problems."
      ],
      "text/plain": [
       "<class 'statsmodels.iolib.summary.Summary'>\n",
       "\"\"\"\n",
       "                            OLS Regression Results                            \n",
       "==============================================================================\n",
       "Dep. Variable:      author_link_karma   R-squared:                       0.020\n",
       "Model:                            OLS   Adj. R-squared:                 -0.010\n",
       "Method:                 Least Squares   F-statistic:                    0.6688\n",
       "Date:                Wed, 13 May 2020   Prob (F-statistic):              0.573\n",
       "Time:                        19:48:47   Log-Likelihood:                -1512.0\n",
       "No. Observations:                 100   AIC:                             3032.\n",
       "Df Residuals:                      96   BIC:                             3042.\n",
       "Df Model:                           3                                         \n",
       "Covariance Type:            nonrobust                                         \n",
       "==========================================================================================\n",
       "                             coef    std err          t      P>|t|      [0.025      0.975]\n",
       "------------------------------------------------------------------------------------------\n",
       "Intercept               5.618e+05   7.45e+05      0.754      0.453   -9.18e+05    2.04e+06\n",
       "gilded[T.True]          4.552e+05    8.8e+05      0.517      0.606   -1.29e+06     2.2e+06\n",
       "upvotes                   -3.3223     12.173     -0.273      0.785     -27.485      20.841\n",
       "upvotes:gilded[T.True]    -5.3551     13.711     -0.391      0.697     -32.571      21.861\n",
       "==============================================================================\n",
       "Omnibus:                      134.918   Durbin-Watson:                   1.388\n",
       "Prob(Omnibus):                  0.000   Jarque-Bera (JB):             3407.970\n",
       "Skew:                           4.801   Prob(JB):                         0.00\n",
       "Kurtosis:                      29.939   Cond. No.                     9.96e+05\n",
       "==============================================================================\n",
       "\n",
       "Warnings:\n",
       "[1] Standard Errors assume that the covariance matrix of the errors is correctly specified.\n",
       "[2] The condition number is large, 9.96e+05. This might indicate that there are\n",
       "strong multicollinearity or other numerical problems.\n",
       "\"\"\""
      ]
     },
     "execution_count": 12,
     "metadata": {},
     "output_type": "execute_result"
    }
   ],
   "source": [
    "link_upvote_corr_inter = sm.ols('author_link_karma~upvotes*gilded', data=posts_df).fit()\n",
    "link_upvote_corr_inter.summary()"
   ]
  },
  {
   "cell_type": "markdown",
   "metadata": {},
   "source": [
    "### Analysis\n",
    "\n",
    "For author link karma, when we check for an interaction term, we do not reject the null hypothedis for no relationship because we get a p value of 0.785 and 0.697, respectively, for posts without and with awards. Our model says that for posts without awards, for every upvote, there is a 3.322 decrease in the author's link karma, and for posts with awards, for every upvote, there is an 8.677 decrease in the author's link karma. This doesn't make a lot of sense as you would expect authors of posts with awards to have more karma, but the outliers could be skewing the data again. But again, these are not statistically significant results. \n",
    "\n",
    "### **Part 4c) OLS: Upvotes vs. Comment Author Score, Author Link Karma, Comments, Crossposts**\n",
    "\n",
    "Now that we've attempted to predict the author's credentials, let's focus on the upvotes. We want to see what influences the number of upvotes a post gets (in the top 100 posts). \n",
    "\n",
    "We, again, run linear regression."
   ]
  },
  {
   "cell_type": "code",
   "execution_count": 55,
   "metadata": {},
   "outputs": [
    {
     "data": {
      "text/html": [
       "<table class=\"simpletable\">\n",
       "<caption>OLS Regression Results</caption>\n",
       "<tr>\n",
       "  <th>Dep. Variable:</th>         <td>upvotes</td>     <th>  R-squared:         </th> <td>   0.342</td>\n",
       "</tr>\n",
       "<tr>\n",
       "  <th>Model:</th>                   <td>OLS</td>       <th>  Adj. R-squared:    </th> <td>   0.314</td>\n",
       "</tr>\n",
       "<tr>\n",
       "  <th>Method:</th>             <td>Least Squares</td>  <th>  F-statistic:       </th> <td>   12.32</td>\n",
       "</tr>\n",
       "<tr>\n",
       "  <th>Date:</th>             <td>Wed, 13 May 2020</td> <th>  Prob (F-statistic):</th> <td>4.13e-08</td>\n",
       "</tr>\n",
       "<tr>\n",
       "  <th>Time:</th>                 <td>21:35:31</td>     <th>  Log-Likelihood:    </th> <td> -1096.0</td>\n",
       "</tr>\n",
       "<tr>\n",
       "  <th>No. Observations:</th>      <td>   100</td>      <th>  AIC:               </th> <td>   2202.</td>\n",
       "</tr>\n",
       "<tr>\n",
       "  <th>Df Residuals:</th>          <td>    95</td>      <th>  BIC:               </th> <td>   2215.</td>\n",
       "</tr>\n",
       "<tr>\n",
       "  <th>Df Model:</th>              <td>     4</td>      <th>                     </th>     <td> </td>   \n",
       "</tr>\n",
       "<tr>\n",
       "  <th>Covariance Type:</th>      <td>nonrobust</td>    <th>                     </th>     <td> </td>   \n",
       "</tr>\n",
       "</table>\n",
       "<table class=\"simpletable\">\n",
       "<tr>\n",
       "            <td></td>              <th>coef</th>     <th>std err</th>      <th>t</th>      <th>P>|t|</th>  <th>[0.025</th>    <th>0.975]</th>  \n",
       "</tr>\n",
       "<tr>\n",
       "  <th>Intercept</th>            <td> 5.339e+04</td> <td> 2700.912</td> <td>   19.766</td> <td> 0.000</td> <td>  4.8e+04</td> <td> 5.87e+04</td>\n",
       "</tr>\n",
       "<tr>\n",
       "  <th>author_comment_karma</th> <td>   -0.0067</td> <td>    0.013</td> <td>   -0.522</td> <td> 0.603</td> <td>   -0.032</td> <td>    0.019</td>\n",
       "</tr>\n",
       "<tr>\n",
       "  <th>author_link_karma</th>    <td>   -0.0022</td> <td>    0.002</td> <td>   -1.357</td> <td> 0.178</td> <td>   -0.005</td> <td>    0.001</td>\n",
       "</tr>\n",
       "<tr>\n",
       "  <th>comments</th>             <td>    2.1942</td> <td>    0.958</td> <td>    2.290</td> <td> 0.024</td> <td>    0.292</td> <td>    4.097</td>\n",
       "</tr>\n",
       "<tr>\n",
       "  <th>crossposts</th>           <td>  479.1908</td> <td>   81.380</td> <td>    5.888</td> <td> 0.000</td> <td>  317.631</td> <td>  640.751</td>\n",
       "</tr>\n",
       "</table>\n",
       "<table class=\"simpletable\">\n",
       "<tr>\n",
       "  <th>Omnibus:</th>       <td>21.912</td> <th>  Durbin-Watson:     </th> <td>   0.765</td>\n",
       "</tr>\n",
       "<tr>\n",
       "  <th>Prob(Omnibus):</th> <td> 0.000</td> <th>  Jarque-Bera (JB):  </th> <td>  29.856</td>\n",
       "</tr>\n",
       "<tr>\n",
       "  <th>Skew:</th>          <td> 1.063</td> <th>  Prob(JB):          </th> <td>3.29e-07</td>\n",
       "</tr>\n",
       "<tr>\n",
       "  <th>Kurtosis:</th>      <td> 4.626</td> <th>  Cond. No.          </th> <td>1.85e+06</td>\n",
       "</tr>\n",
       "</table><br/><br/>Warnings:<br/>[1] Standard Errors assume that the covariance matrix of the errors is correctly specified.<br/>[2] The condition number is large, 1.85e+06. This might indicate that there are<br/>strong multicollinearity or other numerical problems."
      ],
      "text/plain": [
       "<class 'statsmodels.iolib.summary.Summary'>\n",
       "\"\"\"\n",
       "                            OLS Regression Results                            \n",
       "==============================================================================\n",
       "Dep. Variable:                upvotes   R-squared:                       0.342\n",
       "Model:                            OLS   Adj. R-squared:                  0.314\n",
       "Method:                 Least Squares   F-statistic:                     12.32\n",
       "Date:                Wed, 13 May 2020   Prob (F-statistic):           4.13e-08\n",
       "Time:                        21:35:31   Log-Likelihood:                -1096.0\n",
       "No. Observations:                 100   AIC:                             2202.\n",
       "Df Residuals:                      95   BIC:                             2215.\n",
       "Df Model:                           4                                         \n",
       "Covariance Type:            nonrobust                                         \n",
       "========================================================================================\n",
       "                           coef    std err          t      P>|t|      [0.025      0.975]\n",
       "----------------------------------------------------------------------------------------\n",
       "Intercept             5.339e+04   2700.912     19.766      0.000     4.8e+04    5.87e+04\n",
       "author_comment_karma    -0.0067      0.013     -0.522      0.603      -0.032       0.019\n",
       "author_link_karma       -0.0022      0.002     -1.357      0.178      -0.005       0.001\n",
       "comments                 2.1942      0.958      2.290      0.024       0.292       4.097\n",
       "crossposts             479.1908     81.380      5.888      0.000     317.631     640.751\n",
       "==============================================================================\n",
       "Omnibus:                       21.912   Durbin-Watson:                   0.765\n",
       "Prob(Omnibus):                  0.000   Jarque-Bera (JB):               29.856\n",
       "Skew:                           1.063   Prob(JB):                     3.29e-07\n",
       "Kurtosis:                       4.626   Cond. No.                     1.85e+06\n",
       "==============================================================================\n",
       "\n",
       "Warnings:\n",
       "[1] Standard Errors assume that the covariance matrix of the errors is correctly specified.\n",
       "[2] The condition number is large, 1.85e+06. This might indicate that there are\n",
       "strong multicollinearity or other numerical problems.\n",
       "\"\"\""
      ]
     },
     "execution_count": 55,
     "metadata": {},
     "output_type": "execute_result"
    }
   ],
   "source": [
    "multi_res = sm.ols('upvotes~author_comment_karma+author_link_karma+comments+crossposts', data=posts_df).fit()\n",
    "multi_res.summary()"
   ]
  },
  {
   "cell_type": "markdown",
   "metadata": {},
   "source": [
    "### Analysis\n",
    "\n",
    "We find that the statistically significant variables (our threshold is 0.05) that affect number of upvotes are number of comments and number of crossposts. The number of comments has a p value of 0.024 and the number of crossposts has a p value that's basically 0. For every comment, there is a 2.194 increase in the number of upvotes. For every crosspost, there is 479.191 increase in the number of upvotes. This makes sense as if a post has more comments, it probably engages the audience more so they are likely to respond well to it, resulting in a higher number of upvotes. It also makes sense for the crossposts because if a post reaches multiple subreddits, it reaches a larger audience which means more chances for people to engage with the post. It is somewhat surprising as we didn't expect the crosspost coefficient to be so high. It's also somewhat surprising that the variables related to the author don't contribute much to the number of upvotes. This is likely due to the nature of reddit as it tends to focus more on the content rather than who makes it (as opposed to other forms of media like Youtube where creators typically have a strong following). "
   ]
  },
  {
   "cell_type": "markdown",
   "metadata": {
    "colab_type": "text",
    "id": "nPDCO7gAB2bc"
   },
   "source": [
    "## Part 5) **Machine Learning**\n",
    "\n",
    "Now that we have examined the relationship between number of upvotes a post has and the credentials of its author, let's examine the post further. \n",
    "\n",
    "We want to try to see if we can predict if a post gets an award using author link karma, author comment karma, number of upvotes, upvote ratio, number of comments, and number of crossposts. We chose these specific attributes because we wanted to look at the audience, their reaction and the author's credentials as opposed to the type of post. \n",
    "\n",
    "First, we clean up the data into a nice form to input into a random forest classifier. "
   ]
  },
  {
   "cell_type": "code",
   "execution_count": 53,
   "metadata": {},
   "outputs": [],
   "source": [
    "X = posts_df[['author_link_karma','author_comment_karma', 'upvotes','upvote_ratio','comments','crossposts']].to_numpy()\n",
    "# get the outcome from the dataframe we created\n",
    "posts_df['y'] = 1\n",
    "posts_df['y'] = posts_df['y'].where(posts_df['gilded'] == False, 0)\n",
    "y = posts_df['y'].to_numpy()"
   ]
  },
  {
   "cell_type": "markdown",
   "metadata": {},
   "source": [
    "We chose to use a random forest classifier because they tend to be pretty reliable and robust. They try to improve prediction performance and reduce instability by averaging multiple decision trees. We use 100 trees and 10 fold cross validation to check our error rate. We also extract ROC data to get AUROC data for a visual for our error rate. You can learn more about random forest classifiers here: https://towardsdatascience.com/understanding-random-forest-58381e0602d2\n",
    "\n",
    "\n",
    "The following code is adapted from this sklearn tutorial: https://scikit-learn.org/stable/auto_examples/model_selection/plot_roc_crossval.html#sphx-glr-auto-examples-model-selection-plot-roc-crossval-py. Read more to find out additional information and use the sklearn docs to get details on using more models."
   ]
  },
  {
   "cell_type": "code",
   "execution_count": 45,
   "metadata": {},
   "outputs": [],
   "source": [
    "rf = sklearn.ensemble.RandomForestClassifier(n_estimators=100)\n",
    "\n",
    "parameters = {'max_features': ['auto', 'sqrt', 'log2']} \n",
    "cv = sklearn.model_selection.GridSearchCV(rf, parameters, cv=10)\n",
    "\n",
    "cv_obj = sklearn.model_selection.StratifiedKFold(n_splits=10)\n",
    "\n",
    "\n",
    "def get_roc_data(model, cv_obj):\n",
    "    curve_df = None\n",
    "    aucs = []\n",
    "    mean_fpr = np.linspace(0, 1, 100)\n",
    "    \n",
    "    for i, (train, test) in enumerate(cv_obj.split(X, y)):\n",
    "        model.fit(X[train], y[train])\n",
    "        scores = model.predict_proba(X[test])[:,1]\n",
    "        fpr, tpr, _ = sklearn.metrics.roc_curve(y[test],scores)\n",
    "        \n",
    "        interp_tpr = np.interp(mean_fpr, fpr, tpr)\n",
    "        interp_tpr[0] = 0.0\n",
    "        tmp = pd.DataFrame({'fold':i, 'fpr': mean_fpr, 'tpr': interp_tpr})\n",
    "        curve_df = tmp if curve_df is None else pd.concat([curve_df, tmp])\n",
    "        \n",
    "        aucs.append(sklearn.metrics.auc(fpr, tpr))\n",
    "        \n",
    "    curve_df = curve_df.groupby('fpr').agg({'tpr': 'mean'}).reset_index()\n",
    "    curve_df.iloc[-1,1] = 1.0\n",
    "    \n",
    "    auc_df = pd.DataFrame({'fold': np.arange(len(aucs)), 'auc': aucs})\n",
    "    return curve_df, auc_df"
   ]
  },
  {
   "cell_type": "code",
   "execution_count": 46,
   "metadata": {},
   "outputs": [],
   "source": [
    "# get roc curve data for  model\n",
    "curve_df, auc_df = get_roc_data(cv, cv_obj)\n",
    "curve_df['model'] = 'm'\n",
    "auc_df['model'] = 'm'"
   ]
  },
  {
   "cell_type": "code",
   "execution_count": 47,
   "metadata": {},
   "outputs": [
    {
     "data": {
      "text/html": [
       "<div>\n",
       "<style scoped>\n",
       "    .dataframe tbody tr th:only-of-type {\n",
       "        vertical-align: middle;\n",
       "    }\n",
       "\n",
       "    .dataframe tbody tr th {\n",
       "        vertical-align: top;\n",
       "    }\n",
       "\n",
       "    .dataframe thead th {\n",
       "        text-align: right;\n",
       "    }\n",
       "</style>\n",
       "<table border=\"1\" class=\"dataframe\">\n",
       "  <thead>\n",
       "    <tr style=\"text-align: right;\">\n",
       "      <th></th>\n",
       "      <th>fold</th>\n",
       "      <th>auc</th>\n",
       "      <th>model</th>\n",
       "    </tr>\n",
       "  </thead>\n",
       "  <tbody>\n",
       "    <tr>\n",
       "      <th>0</th>\n",
       "      <td>0</td>\n",
       "      <td>0.666667</td>\n",
       "      <td>m</td>\n",
       "    </tr>\n",
       "    <tr>\n",
       "      <th>1</th>\n",
       "      <td>1</td>\n",
       "      <td>0.660000</td>\n",
       "      <td>m</td>\n",
       "    </tr>\n",
       "    <tr>\n",
       "      <th>2</th>\n",
       "      <td>2</td>\n",
       "      <td>0.680000</td>\n",
       "      <td>m</td>\n",
       "    </tr>\n",
       "    <tr>\n",
       "      <th>3</th>\n",
       "      <td>3</td>\n",
       "      <td>0.800000</td>\n",
       "      <td>m</td>\n",
       "    </tr>\n",
       "    <tr>\n",
       "      <th>4</th>\n",
       "      <td>4</td>\n",
       "      <td>0.500000</td>\n",
       "      <td>m</td>\n",
       "    </tr>\n",
       "    <tr>\n",
       "      <th>5</th>\n",
       "      <td>5</td>\n",
       "      <td>0.800000</td>\n",
       "      <td>m</td>\n",
       "    </tr>\n",
       "    <tr>\n",
       "      <th>6</th>\n",
       "      <td>6</td>\n",
       "      <td>0.720000</td>\n",
       "      <td>m</td>\n",
       "    </tr>\n",
       "    <tr>\n",
       "      <th>7</th>\n",
       "      <td>7</td>\n",
       "      <td>0.360000</td>\n",
       "      <td>m</td>\n",
       "    </tr>\n",
       "    <tr>\n",
       "      <th>8</th>\n",
       "      <td>8</td>\n",
       "      <td>0.500000</td>\n",
       "      <td>m</td>\n",
       "    </tr>\n",
       "    <tr>\n",
       "      <th>9</th>\n",
       "      <td>9</td>\n",
       "      <td>0.720000</td>\n",
       "      <td>m</td>\n",
       "    </tr>\n",
       "  </tbody>\n",
       "</table>\n",
       "</div>"
      ],
      "text/plain": [
       "   fold       auc model\n",
       "0     0  0.666667     m\n",
       "1     1  0.660000     m\n",
       "2     2  0.680000     m\n",
       "3     3  0.800000     m\n",
       "4     4  0.500000     m\n",
       "5     5  0.800000     m\n",
       "6     6  0.720000     m\n",
       "7     7  0.360000     m\n",
       "8     8  0.500000     m\n",
       "9     9  0.720000     m"
      ]
     },
     "execution_count": 47,
     "metadata": {},
     "output_type": "execute_result"
    }
   ],
   "source": [
    "auc_df"
   ]
  },
  {
   "cell_type": "code",
   "execution_count": 50,
   "metadata": {},
   "outputs": [
    {
     "data": {
      "image/png": "[encoded data removed]",
      "text/plain": [
       "<Figure size 640x480 with 1 Axes>"
      ]
     },
     "metadata": {},
     "output_type": "display_data"
    },
    {
     "data": {
      "text/plain": [
       "<ggplot: (304764431)>"
      ]
     },
     "execution_count": 50,
     "metadata": {},
     "output_type": "execute_result"
    }
   ],
   "source": [
    "# plot the distribution of auc estimates\n",
    "(ggplot(auc_df, aes(x='model', y='auc')) + \n",
    "     geom_jitter(position=position_jitter(0.1)) +\n",
    "     coord_flip() +\n",
    "     labs(title = \"AUC comparison\",\n",
    "          x=\"Model\",\n",
    "          y=\"Area under ROC curve\"))"
   ]
  },
  {
   "cell_type": "code",
   "execution_count": 54,
   "metadata": {},
   "outputs": [
    {
     "data": {
      "image/png": "[encoded data removed]",
      "text/plain": [
       "<Figure size 640x480 with 1 Axes>"
      ]
     },
     "metadata": {},
     "output_type": "display_data"
    },
    {
     "data": {
      "text/plain": [
       "<ggplot: (304856100)>"
      ]
     },
     "execution_count": 54,
     "metadata": {},
     "output_type": "execute_result"
    }
   ],
   "source": [
    "mean_curve_df = curve_df.groupby(['model','fpr']).agg({'tpr': 'mean'}).reset_index()\n",
    "(ggplot(mean_curve_df, aes(x='fpr', y='tpr', color='model')) +\n",
    "    geom_line() +\n",
    "    labs(title = \"ROC curve\",\n",
    "         x = \"False positive rate\",\n",
    "         y = \"True positive rate\"))"
   ]
  },
  {
   "cell_type": "markdown",
   "metadata": {},
   "source": [
    "### Analysis\n",
    "\n",
    "We want to have a more log shaped curve for the ROC curve, but we have a more linear curve, indicating that our model was not very accurate in predicting if a post recieved an award. You can learn more about the ROC curve here: https://towardsdatascience.com/understanding-auc-roc-curve-68b2303cc9c5"
   ]
  },
  {
   "cell_type": "code",
   "execution_count": null,
   "metadata": {
    "collapsed": true,
    "jupyter": {
     "outputs_hidden": true
    }
   },
   "outputs": [],
   "source": []
  }
 ],
 "metadata": {
  "colab": {
   "collapsed_sections": [],
   "name": "CMSC320_Final.ipynb",
   "provenance": [],
   "toc_visible": true
  },
  "kernelspec": {
   "display_name": "Python 3",
   "language": "python",
   "name": "python3"
  },
  "language_info": {
   "codemirror_mode": {
    "name": "ipython",
    "version": 3
   },
   "file_extension": ".py",
   "mimetype": "text/x-python",
   "name": "python",
   "nbconvert_exporter": "python",
   "pygments_lexer": "ipython3",
   "version": "3.6.2"
  },
  "widgets": {
   "application/vnd.jupyter.widget-state+json": {
    "0ad0dd41c412440b8f53bf494ea6df32": {
     "model_module": "@jupyter-widgets/controls",
     "model_name": "DescriptionStyleModel",
     "state": {
      "_model_module": "@jupyter-widgets/controls",
      "_model_module_version": "1.5.0",
      "_model_name": "DescriptionStyleModel",
      "_view_count": null,
      "_view_module": "@jupyter-widgets/base",
      "_view_module_version": "1.2.0",
      "_view_name": "StyleView",
      "description_width": ""
     }
    },
    "365279826cde49aeb82f6676d1025d94": {
     "model_module": "@jupyter-widgets/base",
     "model_name": "LayoutModel",
     "state": {
      "_model_module": "@jupyter-widgets/base",
      "_model_module_version": "1.2.0",
      "_model_name": "LayoutModel",
      "_view_count": null,
      "_view_module": "@jupyter-widgets/base",
      "_view_module_version": "1.2.0",
      "_view_name": "LayoutView",
      "align_content": null,
      "align_items": null,
      "align_self": null,
      "border": null,
      "bottom": null,
      "display": null,
      "flex": null,
      "flex_flow": null,
      "grid_area": null,
      "grid_auto_columns": null,
      "grid_auto_flow": null,
      "grid_auto_rows": null,
      "grid_column": null,
      "grid_gap": null,
      "grid_row": null,
      "grid_template_areas": null,
      "grid_template_columns": null,
      "grid_template_rows": null,
      "height": null,
      "justify_content": null,
      "justify_items": null,
      "left": null,
      "margin": null,
      "max_height": null,
      "max_width": null,
      "min_height": null,
      "min_width": null,
      "object_fit": null,
      "object_position": null,
      "order": null,
      "overflow": null,
      "overflow_x": null,
      "overflow_y": null,
      "padding": null,
      "right": null,
      "top": null,
      "visibility": null,
      "width": null
     }
    },
    "3af894a801dd4976a997d9ee092f89c1": {
     "model_module": "@jupyter-widgets/controls",
     "model_name": "HTMLModel",
     "state": {
      "_dom_classes": [],
      "_model_module": "@jupyter-widgets/controls",
      "_model_module_version": "1.5.0",
      "_model_name": "HTMLModel",
      "_view_count": null,
      "_view_module": "@jupyter-widgets/controls",
      "_view_module_version": "1.5.0",
      "_view_name": "HTMLView",
      "description": "",
      "description_tooltip": null,
      "layout": "IPY_MODEL_44b38d75b1ed4741baa9f656431e23de",
      "placeholder": "​",
      "style": "IPY_MODEL_c1ca9323dfc1453cb9bf3afd8fff455f",
      "value": " 415/? [13:06&lt;00:00,  1.90s/it]"
     }
    },
    "44b38d75b1ed4741baa9f656431e23de": {
     "model_module": "@jupyter-widgets/base",
     "model_name": "LayoutModel",
     "state": {
      "_model_module": "@jupyter-widgets/base",
      "_model_module_version": "1.2.0",
      "_model_name": "LayoutModel",
      "_view_count": null,
      "_view_module": "@jupyter-widgets/base",
      "_view_module_version": "1.2.0",
      "_view_name": "LayoutView",
      "align_content": null,
      "align_items": null,
      "align_self": null,
      "border": null,
      "bottom": null,
      "display": null,
      "flex": null,
      "flex_flow": null,
      "grid_area": null,
      "grid_auto_columns": null,
      "grid_auto_flow": null,
      "grid_auto_rows": null,
      "grid_column": null,
      "grid_gap": null,
      "grid_row": null,
      "grid_template_areas": null,
      "grid_template_columns": null,
      "grid_template_rows": null,
      "height": null,
      "justify_content": null,
      "justify_items": null,
      "left": null,
      "margin": null,
      "max_height": null,
      "max_width": null,
      "min_height": null,
      "min_width": null,
      "object_fit": null,
      "object_position": null,
      "order": null,
      "overflow": null,
      "overflow_x": null,
      "overflow_y": null,
      "padding": null,
      "right": null,
      "top": null,
      "visibility": null,
      "width": null
     }
    },
    "56d186d941954c5aa86b8c0faab66801": {
     "model_module": "@jupyter-widgets/controls",
     "model_name": "FloatProgressModel",
     "state": {
      "_dom_classes": [],
      "_model_module": "@jupyter-widgets/controls",
      "_model_module_version": "1.5.0",
      "_model_name": "FloatProgressModel",
      "_view_count": null,
      "_view_module": "@jupyter-widgets/controls",
      "_view_module_version": "1.5.0",
      "_view_name": "ProgressView",
      "bar_style": "success",
      "description": "",
      "description_tooltip": null,
      "layout": "IPY_MODEL_365279826cde49aeb82f6676d1025d94",
      "max": 411,
      "min": 0,
      "orientation": "horizontal",
      "style": "IPY_MODEL_afbacc034c1d4f1c88820e713a93e1a3",
      "value": 411
     }
    },
    "56fd1b1d2321467e97317bf449377320": {
     "model_module": "@jupyter-widgets/controls",
     "model_name": "HBoxModel",
     "state": {
      "_dom_classes": [],
      "_model_module": "@jupyter-widgets/controls",
      "_model_module_version": "1.5.0",
      "_model_name": "HBoxModel",
      "_view_count": null,
      "_view_module": "@jupyter-widgets/controls",
      "_view_module_version": "1.5.0",
      "_view_name": "HBoxView",
      "box_style": "",
      "children": [
       "IPY_MODEL_62de3be15c5941e281def864903b4464",
       "IPY_MODEL_b521d170d75f42768c8660ca410bd984"
      ],
      "layout": "IPY_MODEL_84877c097c83466d9b97e86d9b53fb45"
     }
    },
    "62de3be15c5941e281def864903b4464": {
     "model_module": "@jupyter-widgets/controls",
     "model_name": "FloatProgressModel",
     "state": {
      "_dom_classes": [],
      "_model_module": "@jupyter-widgets/controls",
      "_model_module_version": "1.5.0",
      "_model_name": "FloatProgressModel",
      "_view_count": null,
      "_view_module": "@jupyter-widgets/controls",
      "_view_module_version": "1.5.0",
      "_view_name": "ProgressView",
      "bar_style": "success",
      "description": "100%",
      "description_tooltip": null,
      "layout": "IPY_MODEL_a65b148ba67e4733b86ec9458aff7992",
      "max": 100,
      "min": 0,
      "orientation": "horizontal",
      "style": "IPY_MODEL_a3d11941575e4ff285cee4ca36e6767c",
      "value": 100
     }
    },
    "7ee9ecd0fdc547edb42b98d010d73f1b": {
     "model_module": "@jupyter-widgets/controls",
     "model_name": "HBoxModel",
     "state": {
      "_dom_classes": [],
      "_model_module": "@jupyter-widgets/controls",
      "_model_module_version": "1.5.0",
      "_model_name": "HBoxModel",
      "_view_count": null,
      "_view_module": "@jupyter-widgets/controls",
      "_view_module_version": "1.5.0",
      "_view_name": "HBoxView",
      "box_style": "",
      "children": [
       "IPY_MODEL_56d186d941954c5aa86b8c0faab66801",
       "IPY_MODEL_3af894a801dd4976a997d9ee092f89c1"
      ],
      "layout": "IPY_MODEL_a3e0844f07c2459784de8b199971dcf3"
     }
    },
    "84877c097c83466d9b97e86d9b53fb45": {
     "model_module": "@jupyter-widgets/base",
     "model_name": "LayoutModel",
     "state": {
      "_model_module": "@jupyter-widgets/base",
      "_model_module_version": "1.2.0",
      "_model_name": "LayoutModel",
      "_view_count": null,
      "_view_module": "@jupyter-widgets/base",
      "_view_module_version": "1.2.0",
      "_view_name": "LayoutView",
      "align_content": null,
      "align_items": null,
      "align_self": null,
      "border": null,
      "bottom": null,
      "display": null,
      "flex": null,
      "flex_flow": null,
      "grid_area": null,
      "grid_auto_columns": null,
      "grid_auto_flow": null,
      "grid_auto_rows": null,
      "grid_column": null,
      "grid_gap": null,
      "grid_row": null,
      "grid_template_areas": null,
      "grid_template_columns": null,
      "grid_template_rows": null,
      "height": null,
      "justify_content": null,
      "justify_items": null,
      "left": null,
      "margin": null,
      "max_height": null,
      "max_width": null,
      "min_height": null,
      "min_width": null,
      "object_fit": null,
      "object_position": null,
      "order": null,
      "overflow": null,
      "overflow_x": null,
      "overflow_y": null,
      "padding": null,
      "right": null,
      "top": null,
      "visibility": null,
      "width": null
     }
    },
    "a3d11941575e4ff285cee4ca36e6767c": {
     "model_module": "@jupyter-widgets/controls",
     "model_name": "ProgressStyleModel",
     "state": {
      "_model_module": "@jupyter-widgets/controls",
      "_model_module_version": "1.5.0",
      "_model_name": "ProgressStyleModel",
      "_view_count": null,
      "_view_module": "@jupyter-widgets/base",
      "_view_module_version": "1.2.0",
      "_view_name": "StyleView",
      "bar_color": null,
      "description_width": "initial"
     }
    },
    "a3e0844f07c2459784de8b199971dcf3": {
     "model_module": "@jupyter-widgets/base",
     "model_name": "LayoutModel",
     "state": {
      "_model_module": "@jupyter-widgets/base",
      "_model_module_version": "1.2.0",
      "_model_name": "LayoutModel",
      "_view_count": null,
      "_view_module": "@jupyter-widgets/base",
      "_view_module_version": "1.2.0",
      "_view_name": "LayoutView",
      "align_content": null,
      "align_items": null,
      "align_self": null,
      "border": null,
      "bottom": null,
      "display": null,
      "flex": null,
      "flex_flow": null,
      "grid_area": null,
      "grid_auto_columns": null,
      "grid_auto_flow": null,
      "grid_auto_rows": null,
      "grid_column": null,
      "grid_gap": null,
      "grid_row": null,
      "grid_template_areas": null,
      "grid_template_columns": null,
      "grid_template_rows": null,
      "height": null,
      "justify_content": null,
      "justify_items": null,
      "left": null,
      "margin": null,
      "max_height": null,
      "max_width": null,
      "min_height": null,
      "min_width": null,
      "object_fit": null,
      "object_position": null,
      "order": null,
      "overflow": null,
      "overflow_x": null,
      "overflow_y": null,
      "padding": null,
      "right": null,
      "top": null,
      "visibility": null,
      "width": null
     }
    },
    "a65b148ba67e4733b86ec9458aff7992": {
     "model_module": "@jupyter-widgets/base",
     "model_name": "LayoutModel",
     "state": {
      "_model_module": "@jupyter-widgets/base",
      "_model_module_version": "1.2.0",
      "_model_name": "LayoutModel",
      "_view_count": null,
      "_view_module": "@jupyter-widgets/base",
      "_view_module_version": "1.2.0",
      "_view_name": "LayoutView",
      "align_content": null,
      "align_items": null,
      "align_self": null,
      "border": null,
      "bottom": null,
      "display": null,
      "flex": null,
      "flex_flow": null,
      "grid_area": null,
      "grid_auto_columns": null,
      "grid_auto_flow": null,
      "grid_auto_rows": null,
      "grid_column": null,
      "grid_gap": null,
      "grid_row": null,
      "grid_template_areas": null,
      "grid_template_columns": null,
      "grid_template_rows": null,
      "height": null,
      "justify_content": null,
      "justify_items": null,
      "left": null,
      "margin": null,
      "max_height": null,
      "max_width": null,
      "min_height": null,
      "min_width": null,
      "object_fit": null,
      "object_position": null,
      "order": null,
      "overflow": null,
      "overflow_x": null,
      "overflow_y": null,
      "padding": null,
      "right": null,
      "top": null,
      "visibility": null,
      "width": null
     }
    },
    "afbacc034c1d4f1c88820e713a93e1a3": {
     "model_module": "@jupyter-widgets/controls",
     "model_name": "ProgressStyleModel",
     "state": {
      "_model_module": "@jupyter-widgets/controls",
      "_model_module_version": "1.5.0",
      "_model_name": "ProgressStyleModel",
      "_view_count": null,
      "_view_module": "@jupyter-widgets/base",
      "_view_module_version": "1.2.0",
      "_view_name": "StyleView",
      "bar_color": null,
      "description_width": "initial"
     }
    },
    "b521d170d75f42768c8660ca410bd984": {
     "model_module": "@jupyter-widgets/controls",
     "model_name": "HTMLModel",
     "state": {
      "_dom_classes": [],
      "_model_module": "@jupyter-widgets/controls",
      "_model_module_version": "1.5.0",
      "_model_name": "HTMLModel",
      "_view_count": null,
      "_view_module": "@jupyter-widgets/controls",
      "_view_module_version": "1.5.0",
      "_view_name": "HTMLView",
      "description": "",
      "description_tooltip": null,
      "layout": "IPY_MODEL_e61213cf126f4ddb8c943690d40236b6",
      "placeholder": "​",
      "style": "IPY_MODEL_0ad0dd41c412440b8f53bf494ea6df32",
      "value": " 100/100 [00:09&lt;00:00, 10.57it/s]"
     }
    },
    "c1ca9323dfc1453cb9bf3afd8fff455f": {
     "model_module": "@jupyter-widgets/controls",
     "model_name": "DescriptionStyleModel",
     "state": {
      "_model_module": "@jupyter-widgets/controls",
      "_model_module_version": "1.5.0",
      "_model_name": "DescriptionStyleModel",
      "_view_count": null,
      "_view_module": "@jupyter-widgets/base",
      "_view_module_version": "1.2.0",
      "_view_name": "StyleView",
      "description_width": ""
     }
    },
    "e61213cf126f4ddb8c943690d40236b6": {
     "model_module": "@jupyter-widgets/base",
     "model_name": "LayoutModel",
     "state": {
      "_model_module": "@jupyter-widgets/base",
      "_model_module_version": "1.2.0",
      "_model_name": "LayoutModel",
      "_view_count": null,
      "_view_module": "@jupyter-widgets/base",
      "_view_module_version": "1.2.0",
      "_view_name": "LayoutView",
      "align_content": null,
      "align_items": null,
      "align_self": null,
      "border": null,
      "bottom": null,
      "display": null,
      "flex": null,
      "flex_flow": null,
      "grid_area": null,
      "grid_auto_columns": null,
      "grid_auto_flow": null,
      "grid_auto_rows": null,
      "grid_column": null,
      "grid_gap": null,
      "grid_row": null,
      "grid_template_areas": null,
      "grid_template_columns": null,
      "grid_template_rows": null,
      "height": null,
      "justify_content": null,
      "justify_items": null,
      "left": null,
      "margin": null,
      "max_height": null,
      "max_width": null,
      "min_height": null,
      "min_width": null,
      "object_fit": null,
      "object_position": null,
      "order": null,
      "overflow": null,
      "overflow_x": null,
      "overflow_y": null,
      "padding": null,
      "right": null,
      "top": null,
      "visibility": null,
      "width": null
     }
    }
   }
  }
 },
 "nbformat": 4,
 "nbformat_minor": 4
}
