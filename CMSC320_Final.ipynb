{
 "cells": [
  {
   "cell_type": "markdown",
   "metadata": {
    "colab_type": "text",
    "id": "PsUjyKkuKLmm"
   },
   "source": [
    "# **Tutorial: Data Analysis on Reddit**\n",
    "https://reddit.com is a popular social media website that hosts a collection of forums (\"subreddits\") where users aggregate certain types of content (ex: /r/catpics) or discuss certain topics (ex: /r/politics). NTthere is a wealth of information to be gleaned from social, scientific, anthropological and other perspectives in reaping and analyzing the data on reddit, and it can be quite fun to do so as well. In this tutorial we provide a simple, extensible pipeline that guides the user through collecting, sanitizing, analyzing, and presenting (through graphs and summary statistics) that kind of data; go through it yourself and once you learn a few simple techniques, you'll be able to adapt these methods to gather whatever kind of reddit data you want and analyze it in a variety of ways for fun and profit."
   ]
  },
  {
   "cell_type": "markdown",
   "metadata": {
    "colab_type": "text",
    "id": "deGTEqoKKgsP"
   },
   "source": [
    "## **Part 1) Importing the relevant libraries**\n",
    "For this project we will need a few different packages:\n",
    "\n",
    "\n",
    "*   **numpy**: a scientific computing library that contains versatile representation of arrays and a variety of mathematical functions\n",
    "*   **pandas**: a data analysis and manipulation library\n",
    "*   **matplotlib**: a pair of robust plotting libraries\n",
    "*   **plotnine**: library to compose plots\n",
    "*   **plotnine**: machine learning library\n",
    "*   **statsmodels**: a library that provides tools for statistical analysis\n",
    "*   **praw**: a data scraping library made to collect posts, comments, and other information from reddit.com\n",
    "*   **tqdm**: a simple library that adds loading bars for loops, optional\n"
   ]
  },
  {
   "cell_type": "code",
   "execution_count": 1,
   "metadata": {
    "colab": {},
    "colab_type": "code",
    "collapsed": true,
    "id": "pf9aCwtVI0ZG"
   },
   "outputs": [],
   "source": [
    "# To install praw:\n",
    "# import sys\n",
    "# !{sys.executable} -m pip install praw\n",
    "\n",
    "import numpy as np\n",
    "import pandas as pd\n",
    "from plotnine import *\n",
    "from matplotlib import pyplot as plt\n",
    "import statsmodels.formula.api as sm\n",
    "import sklearn.ensemble\n",
    "import sklearn.model_selection\n",
    "import sklearn.metrics\n",
    "import praw\n",
    "from tqdm import tqdm_notebook"
   ]
  },
  {
   "cell_type": "markdown",
   "metadata": {
    "colab_type": "text",
    "id": "5WujwvQYKaHV"
   },
   "source": [
    "## **Part 2) Data Collection and Parsing**\n",
    "Now that we have our libraries, the next step is to start scraping our data and arranging it in an easily manipulable format. In the example below, where we quickly scrape two datasets and store them in organized dataframes: 1) the top 100 posts from the subreddit /r/coronavirus and create a dataframe with post titles, authors, and other relevant fields and 2) all comments from a single highly-trafficked post along with comment author, score, etc.\n",
    "\n",
    "If you want more information on praw and how to use it for more specific queries or other types of reddit information, check out the quick start guide in the official praw docs here: https://praw.readthedocs.io/en/latest/getting_started/quick_start.html"
   ]
  },
  {
   "cell_type": "code",
   "execution_count": 2,
   "metadata": {
    "colab": {
     "base_uri": "https://localhost:8080/",
     "height": 916,
     "referenced_widgets": [
      "56fd1b1d2321467e97317bf449377320",
      "84877c097c83466d9b97e86d9b53fb45",
      "62de3be15c5941e281def864903b4464",
      "b521d170d75f42768c8660ca410bd984",
      "a3d11941575e4ff285cee4ca36e6767c",
      "a65b148ba67e4733b86ec9458aff7992",
      "0ad0dd41c412440b8f53bf494ea6df32",
      "e61213cf126f4ddb8c943690d40236b6",
      "e4e50ad1a32e4fb880578f76c56090b8"
     ]
    },
    "colab_type": "code",
    "id": "BQlt9x27NDa_",
    "outputId": "dc3ebe52-9f03-4a8d-b2d3-a940bd802762"
   },
   "outputs": [
    {
     "name": "stderr",
     "output_type": "stream",
     "text": [
      "/opt/miniconda3/envs/cmsc320/lib/python3.6/site-packages/ipykernel_launcher.py:13: TqdmDeprecationWarning: This function will be removed in tqdm==5.0.0\n",
      "Please use `tqdm.notebook.tqdm` instead of `tqdm.tqdm_notebook`\n",
      "  del sys.path[0]\n"
     ]
    },
    {
     "data": {
      "application/vnd.jupyter.widget-view+json": {
       "model_id": "585540416f494e45a518d4ebf1c4f8ad",
       "version_major": 2,
       "version_minor": 0
      },
      "text/plain": [
       "HBox(children=(FloatProgress(value=0.0), HTML(value='')))"
      ]
     },
     "metadata": {},
     "output_type": "display_data"
    },
    {
     "name": "stdout",
     "output_type": "stream",
     "text": [
      "\n",
      "       id                                              title  \\\n",
      "0  fgi2pi  Even if COVID-19 is unavoidable, delaying infe...   \n",
      "1  fn1mtn  Gino Fasoli was 73 years old. He was italian a...   \n",
      "2  gdkt54  Irish people help raise 1.8 million dollars fo...   \n",
      "3  fn3j0w                 How to stop a virus from spreading   \n",
      "4  fxdwoa  All 11 Coronavirus patients in Greenland have ...   \n",
      "5  fjcz60  An Italian hospital ran out of ICU valves. A l...   \n",
      "6  fl0pdv  Mark Cuban says bailed out companies should ne...   \n",
      "7  fo78n6  Governor Cuomo: “My mother is not expendable. ...   \n",
      "8  fnohv7  Let’s be clear. Again. The virus does not spre...   \n",
      "9  g03smi  Kentucky church fills Easter service to near c...   \n",
      "\n",
      "              author author_flair  author_link_karma  author_comment_karma  \\\n",
      "0           finchdad         None              45598                120832   \n",
      "1          Franky_95         None              25650                  1779   \n",
      "2      willmannix123         None              10991                  2999   \n",
      "3             gluuey         None              36907                  4171   \n",
      "4           mich4725         None              36975                 30040   \n",
      "5             ssldvr         None             263972                206736   \n",
      "6  SingularityWalker         None              25842                 11101   \n",
      "7          jigsawmap         None            1017944                 45727   \n",
      "8            ihazone         None             222180                  8070   \n",
      "9               None         None                 -1                    -1   \n",
      "\n",
      "   author_start_date                   flair  upvotes  upvote_ratio  comments  \\\n",
      "0       1.409673e+09    Video/Image (/r/all)   130375          0.97      4436   \n",
      "1       1.518444e+09         Europe (/r/all)   119996          0.95      1856   \n",
      "2       1.469910e+09               Good News   116471          0.95      2309   \n",
      "3       1.563420e+09    Video/Image (/r/all)   107124          0.96      2221   \n",
      "4       1.425764e+09      Good News (/r/all)   104931          0.96      2498   \n",
      "5       1.378391e+09      Good News (/r/all)   100414          0.97      1418   \n",
      "6       1.571241e+09  Breaks Rule 3 (/r/all)    99907          0.94      1328   \n",
      "7       1.573650e+09            USA (/r/all)    94085          0.90      3738   \n",
      "8       1.565875e+09          World (/r/all)    92003          0.90      3347   \n",
      "9      -1.000000e+00            USA (/r/all)    91712          0.92      3737   \n",
      "\n",
      "   crossposts  type edited  gilded  silver  gold  platinum  total_awards  \n",
      "0         109  link  False    True       0     0         0             0  \n",
      "1          26  link  False    True       0     0         0             0  \n",
      "2          34  link  False    True       0     0         0             0  \n",
      "3         127  link  False    True       0     0         0             0  \n",
      "4          23  link  False    True       0     0         0             0  \n",
      "5          63  link  False    True       0     0         0             0  \n",
      "6          10  link  False   False       0     0         0             0  \n",
      "7          19  link  False    True       0     0         0             0  \n",
      "8          29  link  False    True       0     0         0             0  \n",
      "9          23  link  False    True       0     0         0             0  \n"
     ]
    }
   ],
   "source": [
    "# initialize praw instance\n",
    "reddit = praw.Reddit(client_id=\"BntfP_snMrMyVQ\", client_secret=\"m2VtNI8UehvHELrVeoXyrR_SFY4\", user_agent=\"my user agent\")\n",
    "\n",
    "# get dataset 1, a set of reddit posts\n",
    "# choose a subreddit to scrape (for example, \"news\" for reddit.com/r/news) and scrape top N posts\n",
    "# in this case we get the top 100 posts from the /r/coronavirus subreddit\n",
    "n = 100\n",
    "sub = reddit.subreddit(\"coronavirus\")\n",
    "posts = reddit.subreddit(\"coronavirus\").top(limit=n)\n",
    "\n",
    "# extract attributes from posts\n",
    "posts_data = []\n",
    "for p in tqdm_notebook(posts, total=n):\n",
    "  # check if author is deleted or suspended\n",
    "  banned = True if p.author == None else False\n",
    "  try:\n",
    "    c = p.author.created\n",
    "  except AttributeError:\n",
    "    banned = True\n",
    "\n",
    "  # load attributes into dataframe\n",
    "  posts_data.append({'id': p.id, \n",
    "                     'title': p.title,\n",
    "                     'author': p.author.name if not banned else None,\n",
    "                     'author_flair': p.author_flair_text,\n",
    "                     'author_link_karma': p.author.link_karma if not banned else -1,\n",
    "                     'author_comment_karma': p.author.comment_karma if not banned else -1,\n",
    "                     'author_start_date': p.author.created_utc if not banned else -1,\n",
    "                     'flair': p.link_flair_text,\n",
    "                     'upvotes': p.ups,\n",
    "                     'upvote_ratio': p.upvote_ratio,\n",
    "                     'comments': p.num_comments,\n",
    "                     'crossposts': p.num_crossposts,\n",
    "                     'type': 'self' if p.is_self else 'link',\n",
    "                     'edited': p.edited,\n",
    "                     'gilded': p.gilded > 0,\n",
    "                     'silver': p.gildings.get('gid_1', 0), # various types of awards users can give reddit posts below\n",
    "                     'gold': p.gildings.get('gid_2', 0),\n",
    "                     'platinum': p.gildings.get('gid_3', 0),\n",
    "                     'total_awards': p.total_awards_received\n",
    "                     })\n",
    "  \n",
    "# show first 10 rows of post data\n",
    "posts_df = pd.DataFrame(posts_data)\n",
    "pd.set_option('display.max_columns', None)\n",
    "print(posts_df[:10])"
   ]
  },
  {
   "cell_type": "code",
   "execution_count": 3,
   "metadata": {
    "colab": {
     "base_uri": "https://localhost:8080/",
     "height": 712,
     "referenced_widgets": [
      "7ee9ecd0fdc547edb42b98d010d73f1b",
      "a3e0844f07c2459784de8b199971dcf3",
      "56d186d941954c5aa86b8c0faab66801",
      "3af894a801dd4976a997d9ee092f89c1",
      "afbacc034c1d4f1c88820e713a93e1a3",
      "365279826cde49aeb82f6676d1025d94",
      "c1ca9323dfc1453cb9bf3afd8fff455f",
      "44b38d75b1ed4741baa9f656431e23de",
      "72c47e52394d49de9e4abe65cf36fc15"
     ]
    },
    "colab_type": "code",
    "id": "bsvN0lPfV1WS",
    "outputId": "06b5d05b-3b0d-43ac-a90c-6ab2997a1db8"
   },
   "outputs": [
    {
     "name": "stderr",
     "output_type": "stream",
     "text": [
      "/opt/miniconda3/envs/cmsc320/lib/python3.6/site-packages/ipykernel_launcher.py:12: TqdmDeprecationWarning: This function will be removed in tqdm==5.0.0\n",
      "Please use `tqdm.notebook.tqdm` instead of `tqdm.tqdm_notebook`\n",
      "  if sys.path[0] == '':\n"
     ]
    },
    {
     "data": {
      "application/vnd.jupyter.widget-view+json": {
       "model_id": "d7b518bcea5145b9a828c78977cc8f5b",
       "version_major": 2,
       "version_minor": 0
      },
      "text/plain": [
       "HBox(children=(FloatProgress(value=0.0, max=411.0), HTML(value='')))"
      ]
     },
     "metadata": {},
     "output_type": "display_data"
    },
    {
     "name": "stdout",
     "output_type": "stream",
     "text": [
      "\n",
      "        id                                               body  \\\n",
      "0  dbvei4j  Just a quick mod note. \\n\\nWe made ourselves S...   \n",
      "1  dbv6rwb  Thought for sure this was coming from /r/subre...   \n",
      "2  dbv6f0b                                             RIGGED   \n",
      "3  dbv6jl2  Pack it up everyone, this sub's done, they're ...   \n",
      "4  dbv6tgz       Would have made a great April Fool's prank.    \n",
      "5  dbv6ezt                                        Inception.    \n",
      "6  dbv7ptx                                 **INCEPTION HORN**   \n",
      "7  dbv8oan                         Tomorrow /r/autofellatio/.   \n",
      "8  dbv9712                 This kinda seems like masturbation   \n",
      "9  dbv9bs9                                          [deleted]   \n",
      "\n",
      "              author      author_flair  author_link_karma  \\\n",
      "0          ZadocPaet  biggest joystick            2101845   \n",
      "1       p1um5mu991er              None               1682   \n",
      "2         Herr_Gamer              None             112230   \n",
      "3        EmperorJake              None              19906   \n",
      "4            btadeus              None                485   \n",
      "5       blackbeard97              None               3792   \n",
      "6    The_Cute_Dragon              None              18040   \n",
      "7  Thatonetimeatcamp              None                901   \n",
      "8        TheLynguist              None                726   \n",
      "9               None              None                  0   \n",
      "\n",
      "   author_comment_karma  author_start_date author_submitted  upvotes  edited  \n",
      "0                278931       1.358299e+09            False        1   False  \n",
      "1               1419700       1.358800e+09            False     3100   False  \n",
      "2                 97220       1.404398e+09            False     4327   False  \n",
      "3                 47309       1.329474e+09            False     1276   False  \n",
      "4                 28707       1.328825e+09            False      377   False  \n",
      "5                 23297       1.406811e+09            False      196   False  \n",
      "6                 49605       1.438289e+09            False      155   False  \n",
      "7                  1538       1.356103e+09            False      131   False  \n",
      "8                 18640       1.380385e+09            False       55   False  \n",
      "9                     0       0.000000e+00                0       41   False  \n"
     ]
    }
   ],
   "source": [
    "# get dataset 3, a set of reddit comments\n",
    "# choose a post to scrape (you can get the post id from its url) and scrape all comments\n",
    "# in this case we get comments from the top post of all time on the /r/coronavirus subreddit\n",
    "n = 1\n",
    "sub = reddit.subreddit(\"subredditoftheday\")\n",
    "post = next(reddit.subreddit(\"subredditoftheday\").top(limit=n))\n",
    "post.comments.replace_more(limit=None)\n",
    "comments = post.comments.list()\n",
    "\n",
    "# extract attributes from comments\n",
    "comments_data = []\n",
    "for c in tqdm_notebook(comments, total=post.num_comments):\n",
    "  # check if author is deleted or suspended\n",
    "  banned = True if c.author == None else False\n",
    "  try:\n",
    "    t = c.author.created\n",
    "  except Exception as e:\n",
    "    banned = True\n",
    "\n",
    "  # load attributes into dataframe\n",
    "  comments_data.append({'id': c.id, \n",
    "                     'body': c.body,\n",
    "                     'author': c.author.name if not banned else None,\n",
    "                     'author_flair': c.author_flair_text,\n",
    "                     'author_link_karma': c.author.link_karma if not banned else 0,\n",
    "                     'author_comment_karma': c.author.comment_karma if not banned else 0,\n",
    "                     'author_start_date': c.author.created_utc if not banned else 0,\n",
    "                     'author_submitted': c.is_submitter if not banned else 0,\n",
    "                     'upvotes': c.score,\n",
    "                     'edited': p.edited\n",
    "                     })\n",
    "  \n",
    "# show first 10 rows of post data\n",
    "comments_df = pd.DataFrame(comments_data)\n",
    "print(comments_df[:10])"
   ]
  },
  {
   "cell_type": "markdown",
   "metadata": {
    "colab_type": "text",
    "id": "txjbazcIgpph"
   },
   "source": [
    "## **Part 3) Exploratory Data Analysis with Plots**\n",
    "Now that we have a pair of robust data sets containing reddit post information and reddit comment information, we can conduct some basic analysis to begin to understand the shape and properties of our data and get a better of idea of what kind of questions to ask during more involved analysis later on. In the following code we give a few examples of ways to create plots that give new insight into the properties of our reddit data easily with our two plotting libraries, matplotlib and seaborn."
   ]
  },
  {
   "cell_type": "markdown",
   "metadata": {
    "colab_type": "text",
    "id": "fRBroVZWxUMb"
   },
   "source": [
    "### **Part 3a) Matplotlib Scatter Plot: Comment Score vs. Comment Author Score**\n",
    "*Question: For \"representative\" comments in the comments dataset, is there any correlation between the score a user got with their comment and their overall score on reddit as a whole?* \n",
    "\n",
    "We define \"representative\" comments as those whose score and user score are within some small distance in either direction of the median (we use resistant statistics because of reddit comment scores' distributions' propensity to have outliers). With this definition in mind, we examine the answer to this question by extracting such comments from the thread and plotting comment score against comment author overall link score and comment author overall comment score (i.e. we plot the points a user got for each comment against the total number of points that user has earned over all time on reddit across all their link posts and all their comments, respectively).\n",
    "\n",
    "For more information on scatter plot rules in general and the construction of a matplotlib scatter plot, check the matplotlib scatter plot docs here: https://matplotlib.org/3.2.0/api/_as_gen/matplotlib.pyplot.scatter.html. These docs also give information on creating and manipulating a number of other matplotlib plots.\n"
   ]
  },
  {
   "cell_type": "code",
   "execution_count": 4,
   "metadata": {
    "colab": {
     "base_uri": "https://localhost:8080/",
     "height": 713
    },
    "colab_type": "code",
    "id": "I7iZGYecwm1n",
    "outputId": "89a2c36b-3eef-4c09-db7b-4a310b85a0a0"
   },
   "outputs": [
    {
     "data": {
      "image/png": "[encoded data removed]",
      "text/plain": [
       "<Figure size 1296x756 with 1 Axes>"
      ]
     },
     "metadata": {},
     "output_type": "display_data"
    }
   ],
   "source": [
    "# get comments in a representative range, mainly to exclude outliers from high-scorers or banned accounts with 0 score\n",
    "upvote_range = 50\n",
    "median = comments_df['upvotes'].median()\n",
    "top_comments = comments_df[comments_df['upvotes'].between(median - upvote_range, median + upvote_range)]\n",
    "\n",
    "# arrange upvotes on x axis and link + comment score on y axis\n",
    "scatter_x = np.concatenate([np.array(top_comments['upvotes']), np.array(top_comments['upvotes'])])\n",
    "scatter_y = np.concatenate([np.array(top_comments['author_link_karma']), np.array(top_comments['author_comment_karma'])])\n",
    "\n",
    "# assign legend groups to link and comment score, label blue and orange respectively\n",
    "group = [1] * len(top_comments['author_link_karma']) + [2] * len(top_comments['author_comment_karma'])\n",
    "cdict = {1: 'blue', 2: 'orange'}\n",
    "\n",
    "# create scatter plot\n",
    "fig, ax = plt.subplots()\n",
    "fig.set_size_inches(18,10.5)\n",
    "\n",
    "# for each legend group\n",
    "for g in np.unique(group):\n",
    "    # plot dots corresponding to this group\n",
    "    ix = np.where(group == g)\n",
    "    ax.scatter(scatter_x[ix], scatter_y[ix], c = cdict[g], label = g, s = 100)\n",
    "\n",
    "# label plot\n",
    "L = ax.legend()\n",
    "L.get_texts()[0].set_text('Author Overall Link Score')\n",
    "L.get_texts()[1].set_text('Author Overall Comment Score')\n",
    "fig.suptitle('Representative Comment Score vs. Comment Author Overall Link & Comment Score', fontsize=20)\n",
    "plt.xlabel('Comment Score', fontsize=15)\n",
    "plt.ylabel('Author Overall Score', fontsize=15)\n",
    "plt.show()"
   ]
  },
  {
   "cell_type": "markdown",
   "metadata": {
    "colab_type": "text",
    "id": "QN1EPCw99fn_"
   },
   "source": [
    "### **Analysis**\n",
    "From the plot, we cannot infer any strong correlation between comment score and overall score. Contrary to what we might have expected, the distribution of overall link and comment scores is roughly unimodal with a mode somewhat below the median comment score. Scatter plots can be excellent at giving hints at the relationship between two variables like this."
   ]
  },
  {
   "cell_type": "markdown",
   "metadata": {
    "colab_type": "text",
    "id": "CZ9NJROeAOe1"
   },
   "source": [
    "### **Part 3b) Seaborn Box Plot: Distributions of Score and Comments for Posts with Awards**\n",
    "*Question: Can we compare the ranges and distributions of score and comment count for posts which have received reddit awards vs. those which have not?*\n",
    "\n",
    "One good type of plot to answer this question is a box plot. We can construct a simple box plot with seaborn as shown:\n",
    "\n",
    "For more information on the details of creating boxplots with seaborn, check the seaborn docs on boxplots: https://seaborn.pydata.org/generated/seaborn.boxplot.html. These docs also give examples on using seaborn to create a variety of other plots."
   ]
  },
  {
   "cell_type": "code",
   "execution_count": 5,
   "metadata": {
    "colab": {
     "base_uri": "https://localhost:8080/",
     "height": 1000
    },
    "colab_type": "code",
    "id": "3WOK4UqFBPol",
    "outputId": "9a389f6b-8211-4464-b7de-67dcff52371e"
   },
   "outputs": [
    {
     "data": {
      "image/png": "[encoded data removed]",
      "text/plain": [
       "<Figure size 720x720 with 1 Axes>"
      ]
     },
     "metadata": {},
     "output_type": "display_data"
    },
    {
     "data": {
      "image/png": "[encoded data removed]",
      "text/plain": [
       "<Figure size 720x720 with 1 Axes>"
      ]
     },
     "metadata": {},
     "output_type": "display_data"
    }
   ],
   "source": [
    "# create boxplot showing upvotes by award status\n",
    "fig, ax = plt.subplots(figsize=(10,  10))\n",
    "posts_df.boxplot(['upvotes'], 'gilded', ax)\n",
    "fig.suptitle('Score Distributions of Posts with Awards and Without', fontsize=20)\n",
    "plt.xlabel('Post Given Award?', fontsize=15)\n",
    "plt.ylabel('Post Score', fontsize=15)\n",
    "plt.show()\n",
    "\n",
    "# create boxplot showing comments by award status\n",
    "fig, ax = plt.subplots(figsize=(10,  10))\n",
    "posts_df.boxplot(['comments'], 'gilded', ax)\n",
    "fig.suptitle('Comments Distributions of Posts with Awards and Without', fontsize=20)\n",
    "plt.xlabel('Post Given Award?', fontsize=15)\n",
    "plt.ylabel('Post Comments', fontsize=15)\n",
    "plt.show()"
   ]
  },
  {
   "cell_type": "markdown",
   "metadata": {
    "colab_type": "text",
    "id": "tP3KaHrgBnfO"
   },
   "source": [
    "### **Analysis**\n",
    "From the first plot we can conclude that the range of scores within the 2nd and 3rd quartile increase significantly for posts that have been given awards, and the long tail representing the 4th quartile further suggests that the range of possibilities for post score among posts with awards is much greater than that of posts without awards. The second plot indicates a similar trend for comment counts of posts with awards, but the difference in 2nd and 3rd quartile range as well as 4th quartile range is not nearly as distinct in this case. These box plots imply that posts which receive awards are more likely to receive positive engagement and engagement overall."
   ]
  },
  {
   "cell_type": "markdown",
   "metadata": {
    "colab_type": "text",
    "id": "v55aaafgBwj6"
   },
   "source": [
    "## **Part 4) Hypothesis Testing**\n",
    "\n",
    "Now that we have visualized our data sets containing reddit post information and reddit comment information, we can conduct some basic hypothesis testing to analyze the relationship between different sets of variables. In the following code we demonstrate linear regression with ordinary least squares to give us more detail about the relationships we looked at above.\n"
   ]
  },
  {
   "cell_type": "markdown",
   "metadata": {
    "colab_type": "text",
    "id": "eHDBro2_4lnH"
   },
   "source": [
    "### **Part 4a) OLS: Comment Author Score vs. Comment  Score**\n",
    "\n",
    "Going back to the question we looked at above: \n",
    "*Question: For \"representative\" comments in the comments dataset, is there any correlation between the score a user got with their comment and their overall score on reddit as a whole?* \n",
    "\n",
    "We look at the relationship between comment score and comment author overall link score, as well as comment score and comment author overall comment score."
   ]
  },
  {
   "cell_type": "code",
   "execution_count": 6,
   "metadata": {
    "colab": {},
    "colab_type": "code",
    "id": "UEU9CKBN3-aF",
    "outputId": "794f943b-4bb0-4f34-c45f-12b803c77ebe"
   },
   "outputs": [
    {
     "data": {
      "text/html": [
       "<table class=\"simpletable\">\n",
       "<caption>OLS Regression Results</caption>\n",
       "<tr>\n",
       "  <th>Dep. Variable:</th>    <td>author_link_karma</td> <th>  R-squared:         </th> <td>   0.002</td> \n",
       "</tr>\n",
       "<tr>\n",
       "  <th>Model:</th>                   <td>OLS</td>        <th>  Adj. R-squared:    </th> <td>  -0.001</td> \n",
       "</tr>\n",
       "<tr>\n",
       "  <th>Method:</th>             <td>Least Squares</td>   <th>  F-statistic:       </th> <td>  0.6367</td> \n",
       "</tr>\n",
       "<tr>\n",
       "  <th>Date:</th>             <td>Thu, 14 May 2020</td>  <th>  Prob (F-statistic):</th>  <td> 0.425</td>  \n",
       "</tr>\n",
       "<tr>\n",
       "  <th>Time:</th>                 <td>12:07:44</td>      <th>  Log-Likelihood:    </th> <td> -5313.7</td> \n",
       "</tr>\n",
       "<tr>\n",
       "  <th>No. Observations:</th>      <td>   382</td>       <th>  AIC:               </th> <td>1.063e+04</td>\n",
       "</tr>\n",
       "<tr>\n",
       "  <th>Df Residuals:</th>          <td>   380</td>       <th>  BIC:               </th> <td>1.064e+04</td>\n",
       "</tr>\n",
       "<tr>\n",
       "  <th>Df Model:</th>              <td>     1</td>       <th>                     </th>     <td> </td>    \n",
       "</tr>\n",
       "<tr>\n",
       "  <th>Covariance Type:</th>      <td>nonrobust</td>     <th>                     </th>     <td> </td>    \n",
       "</tr>\n",
       "</table>\n",
       "<table class=\"simpletable\">\n",
       "<tr>\n",
       "      <td></td>         <th>coef</th>     <th>std err</th>      <th>t</th>      <th>P>|t|</th>  <th>[0.025</th>    <th>0.975]</th>  \n",
       "</tr>\n",
       "<tr>\n",
       "  <th>Intercept</th> <td> 6.212e+04</td> <td> 1.61e+04</td> <td>    3.849</td> <td> 0.000</td> <td> 3.04e+04</td> <td> 9.38e+04</td>\n",
       "</tr>\n",
       "<tr>\n",
       "  <th>upvotes</th>   <td>-1086.6568</td> <td> 1361.822</td> <td>   -0.798</td> <td> 0.425</td> <td>-3764.308</td> <td> 1590.995</td>\n",
       "</tr>\n",
       "</table>\n",
       "<table class=\"simpletable\">\n",
       "<tr>\n",
       "  <th>Omnibus:</th>       <td>530.074</td> <th>  Durbin-Watson:     </th> <td>   1.203</td> \n",
       "</tr>\n",
       "<tr>\n",
       "  <th>Prob(Omnibus):</th> <td> 0.000</td>  <th>  Jarque-Bera (JB):  </th> <td>45889.396</td>\n",
       "</tr>\n",
       "<tr>\n",
       "  <th>Skew:</th>          <td> 7.187</td>  <th>  Prob(JB):          </th> <td>    0.00</td> \n",
       "</tr>\n",
       "<tr>\n",
       "  <th>Kurtosis:</th>      <td>54.735</td>  <th>  Cond. No.          </th> <td>    14.0</td> \n",
       "</tr>\n",
       "</table><br/><br/>Warnings:<br/>[1] Standard Errors assume that the covariance matrix of the errors is correctly specified."
      ],
      "text/plain": [
       "<class 'statsmodels.iolib.summary.Summary'>\n",
       "\"\"\"\n",
       "                            OLS Regression Results                            \n",
       "==============================================================================\n",
       "Dep. Variable:      author_link_karma   R-squared:                       0.002\n",
       "Model:                            OLS   Adj. R-squared:                 -0.001\n",
       "Method:                 Least Squares   F-statistic:                    0.6367\n",
       "Date:                Thu, 14 May 2020   Prob (F-statistic):              0.425\n",
       "Time:                        12:07:44   Log-Likelihood:                -5313.7\n",
       "No. Observations:                 382   AIC:                         1.063e+04\n",
       "Df Residuals:                     380   BIC:                         1.064e+04\n",
       "Df Model:                           1                                         \n",
       "Covariance Type:            nonrobust                                         \n",
       "==============================================================================\n",
       "                 coef    std err          t      P>|t|      [0.025      0.975]\n",
       "------------------------------------------------------------------------------\n",
       "Intercept   6.212e+04   1.61e+04      3.849      0.000    3.04e+04    9.38e+04\n",
       "upvotes    -1086.6568   1361.822     -0.798      0.425   -3764.308    1590.995\n",
       "==============================================================================\n",
       "Omnibus:                      530.074   Durbin-Watson:                   1.203\n",
       "Prob(Omnibus):                  0.000   Jarque-Bera (JB):            45889.396\n",
       "Skew:                           7.187   Prob(JB):                         0.00\n",
       "Kurtosis:                      54.735   Cond. No.                         14.0\n",
       "==============================================================================\n",
       "\n",
       "Warnings:\n",
       "[1] Standard Errors assume that the covariance matrix of the errors is correctly specified.\n",
       "\"\"\""
      ]
     },
     "execution_count": 6,
     "metadata": {},
     "output_type": "execute_result"
    }
   ],
   "source": [
    "link_upvote_corr = sm.ols('author_link_karma~upvotes', data=top_comments).fit()\n",
    "link_upvote_corr.summary()"
   ]
  },
  {
   "cell_type": "markdown",
   "metadata": {
    "colab_type": "text",
    "id": "9ijxciMZ3-aJ"
   },
   "source": [
    "### Analysis\n",
    "\n",
    "When we fit a linear regression model of author link karma vs. upvotes, and test for a relationship between upvotes and author link karma, we do not reject the null hypothesis of no relationship because we have a p value of 0.467 which is way above our significance level of 0.05. Our model says that for each upvote, there is a -1011 decrease in author link karma, but again, this is not statistically significant.\n",
    "\n",
    "This isn't what one would expect, as you would probably expect that that the more upvotes you have on a comment, the higher link karma you have. However, we suspect the reason why it's such a large negative number is because some users' link karma is so high, it skewed the data. Looking at our scatter plot before, we see that there are a couple points that are above a million. When the comment ranges from -10 to 50, these outlier points can make a big difference on the slope of the line."
   ]
  },
  {
   "cell_type": "code",
   "execution_count": 7,
   "metadata": {
    "colab": {},
    "colab_type": "code",
    "id": "RR_B54y_3-aJ",
    "outputId": "d18b1cf8-1ef2-4e06-a9e7-3cd852994ff1"
   },
   "outputs": [
    {
     "data": {
      "text/html": [
       "<table class=\"simpletable\">\n",
       "<caption>OLS Regression Results</caption>\n",
       "<tr>\n",
       "  <th>Dep. Variable:</th>    <td>author_comment_karma</td> <th>  R-squared:         </th> <td>   0.002</td> \n",
       "</tr>\n",
       "<tr>\n",
       "  <th>Model:</th>                     <td>OLS</td>         <th>  Adj. R-squared:    </th> <td>  -0.000</td> \n",
       "</tr>\n",
       "<tr>\n",
       "  <th>Method:</th>               <td>Least Squares</td>    <th>  F-statistic:       </th> <td>  0.8850</td> \n",
       "</tr>\n",
       "<tr>\n",
       "  <th>Date:</th>               <td>Thu, 14 May 2020</td>   <th>  Prob (F-statistic):</th>  <td> 0.347</td>  \n",
       "</tr>\n",
       "<tr>\n",
       "  <th>Time:</th>                   <td>12:07:48</td>       <th>  Log-Likelihood:    </th> <td> -5211.1</td> \n",
       "</tr>\n",
       "<tr>\n",
       "  <th>No. Observations:</th>        <td>   382</td>        <th>  AIC:               </th> <td>1.043e+04</td>\n",
       "</tr>\n",
       "<tr>\n",
       "  <th>Df Residuals:</th>            <td>   380</td>        <th>  BIC:               </th> <td>1.043e+04</td>\n",
       "</tr>\n",
       "<tr>\n",
       "  <th>Df Model:</th>                <td>     1</td>        <th>                     </th>     <td> </td>    \n",
       "</tr>\n",
       "<tr>\n",
       "  <th>Covariance Type:</th>        <td>nonrobust</td>      <th>                     </th>     <td> </td>    \n",
       "</tr>\n",
       "</table>\n",
       "<table class=\"simpletable\">\n",
       "<tr>\n",
       "      <td></td>         <th>coef</th>     <th>std err</th>      <th>t</th>      <th>P>|t|</th>  <th>[0.025</th>    <th>0.975]</th>  \n",
       "</tr>\n",
       "<tr>\n",
       "  <th>Intercept</th> <td> 7.585e+04</td> <td> 1.23e+04</td> <td>    6.149</td> <td> 0.000</td> <td> 5.16e+04</td> <td>    1e+05</td>\n",
       "</tr>\n",
       "<tr>\n",
       "  <th>upvotes</th>   <td>  979.2845</td> <td> 1040.941</td> <td>    0.941</td> <td> 0.347</td> <td>-1067.441</td> <td> 3026.010</td>\n",
       "</tr>\n",
       "</table>\n",
       "<table class=\"simpletable\">\n",
       "<tr>\n",
       "  <th>Omnibus:</th>       <td>605.276</td> <th>  Durbin-Watson:     </th>  <td>   1.991</td> \n",
       "</tr>\n",
       "<tr>\n",
       "  <th>Prob(Omnibus):</th> <td> 0.000</td>  <th>  Jarque-Bera (JB):  </th> <td>140423.953</td>\n",
       "</tr>\n",
       "<tr>\n",
       "  <th>Skew:</th>          <td> 8.706</td>  <th>  Prob(JB):          </th>  <td>    0.00</td> \n",
       "</tr>\n",
       "<tr>\n",
       "  <th>Kurtosis:</th>      <td>95.300</td>  <th>  Cond. No.          </th>  <td>    14.0</td> \n",
       "</tr>\n",
       "</table><br/><br/>Warnings:<br/>[1] Standard Errors assume that the covariance matrix of the errors is correctly specified."
      ],
      "text/plain": [
       "<class 'statsmodels.iolib.summary.Summary'>\n",
       "\"\"\"\n",
       "                             OLS Regression Results                             \n",
       "================================================================================\n",
       "Dep. Variable:     author_comment_karma   R-squared:                       0.002\n",
       "Model:                              OLS   Adj. R-squared:                 -0.000\n",
       "Method:                   Least Squares   F-statistic:                    0.8850\n",
       "Date:                  Thu, 14 May 2020   Prob (F-statistic):              0.347\n",
       "Time:                          12:07:48   Log-Likelihood:                -5211.1\n",
       "No. Observations:                   382   AIC:                         1.043e+04\n",
       "Df Residuals:                       380   BIC:                         1.043e+04\n",
       "Df Model:                             1                                         \n",
       "Covariance Type:              nonrobust                                         \n",
       "==============================================================================\n",
       "                 coef    std err          t      P>|t|      [0.025      0.975]\n",
       "------------------------------------------------------------------------------\n",
       "Intercept   7.585e+04   1.23e+04      6.149      0.000    5.16e+04       1e+05\n",
       "upvotes      979.2845   1040.941      0.941      0.347   -1067.441    3026.010\n",
       "==============================================================================\n",
       "Omnibus:                      605.276   Durbin-Watson:                   1.991\n",
       "Prob(Omnibus):                  0.000   Jarque-Bera (JB):           140423.953\n",
       "Skew:                           8.706   Prob(JB):                         0.00\n",
       "Kurtosis:                      95.300   Cond. No.                         14.0\n",
       "==============================================================================\n",
       "\n",
       "Warnings:\n",
       "[1] Standard Errors assume that the covariance matrix of the errors is correctly specified.\n",
       "\"\"\""
      ]
     },
     "execution_count": 7,
     "metadata": {},
     "output_type": "execute_result"
    }
   ],
   "source": [
    "comment_upvote_corr = sm.ols('author_comment_karma~upvotes', data=top_comments).fit()\n",
    "comment_upvote_corr.summary()"
   ]
  },
  {
   "cell_type": "markdown",
   "metadata": {
    "colab_type": "text",
    "id": "iS8O78qs3-aM"
   },
   "source": [
    "### Analysis\n",
    "\n",
    "When we fit a linear regression model of author comment karma vs. upvotes, and test for a relationship between upvotes and author comment karma, we also do not reject the null hypothesis of no relationship because we have a p value of 0.229 which is above our significance level of 0.05. Our model says that for each upvote, there is a 1277 increase in author comment karma, but again, this is not statistically significant.  \n",
    "\n",
    "This is what one would expect, as you would probably expect that that the more upvotes you have on a comment, the higher comment karma you have. However, the reason why the number is so big is because again, we have some outliers in the millions range. This probably skewed our data again despite our attempt to look at representative comments.\n",
    "\n",
    "\n"
   ]
  },
  {
   "cell_type": "markdown",
   "metadata": {
    "colab_type": "text",
    "id": "yRuuXDAm5Att"
   },
   "source": [
    "### **Part 4b) OLS: Comment Author Score vs. Comment  Score, Gilded**\n",
    "\n",
    "In addition, given what we saw with posts with awards vs without awards, we saw that the distribution of points was different for the two. With this information, it makes sense to check for an interaction term between number of upvotes and if their post recieved an award (for author comment/link karma).\n"
   ]
  },
  {
   "cell_type": "code",
   "execution_count": 8,
   "metadata": {
    "colab": {},
    "colab_type": "code",
    "id": "_rGuN6yh3-aN",
    "outputId": "b45fbea5-1f9f-4c19-f919-ecf117ad6808"
   },
   "outputs": [
    {
     "data": {
      "text/html": [
       "<table class=\"simpletable\">\n",
       "<caption>OLS Regression Results</caption>\n",
       "<tr>\n",
       "  <th>Dep. Variable:</th>    <td>author_comment_karma</td> <th>  R-squared:         </th> <td>   0.008</td>\n",
       "</tr>\n",
       "<tr>\n",
       "  <th>Model:</th>                     <td>OLS</td>         <th>  Adj. R-squared:    </th> <td>  -0.023</td>\n",
       "</tr>\n",
       "<tr>\n",
       "  <th>Method:</th>               <td>Least Squares</td>    <th>  F-statistic:       </th> <td>  0.2713</td>\n",
       "</tr>\n",
       "<tr>\n",
       "  <th>Date:</th>               <td>Thu, 14 May 2020</td>   <th>  Prob (F-statistic):</th>  <td> 0.846</td> \n",
       "</tr>\n",
       "<tr>\n",
       "  <th>Time:</th>                   <td>12:07:53</td>       <th>  Log-Likelihood:    </th> <td> -1313.9</td>\n",
       "</tr>\n",
       "<tr>\n",
       "  <th>No. Observations:</th>        <td>   100</td>        <th>  AIC:               </th> <td>   2636.</td>\n",
       "</tr>\n",
       "<tr>\n",
       "  <th>Df Residuals:</th>            <td>    96</td>        <th>  BIC:               </th> <td>   2646.</td>\n",
       "</tr>\n",
       "<tr>\n",
       "  <th>Df Model:</th>                <td>     3</td>        <th>                     </th>     <td> </td>   \n",
       "</tr>\n",
       "<tr>\n",
       "  <th>Covariance Type:</th>        <td>nonrobust</td>      <th>                     </th>     <td> </td>   \n",
       "</tr>\n",
       "</table>\n",
       "<table class=\"simpletable\">\n",
       "<tr>\n",
       "             <td></td>               <th>coef</th>     <th>std err</th>      <th>t</th>      <th>P>|t|</th>  <th>[0.025</th>    <th>0.975]</th>  \n",
       "</tr>\n",
       "<tr>\n",
       "  <th>Intercept</th>              <td> 5.737e+04</td> <td> 1.03e+05</td> <td>    0.557</td> <td> 0.579</td> <td>-1.47e+05</td> <td> 2.62e+05</td>\n",
       "</tr>\n",
       "<tr>\n",
       "  <th>gilded[T.True]</th>         <td>-1.338e+04</td> <td> 1.21e+05</td> <td>   -0.110</td> <td> 0.913</td> <td>-2.54e+05</td> <td> 2.28e+05</td>\n",
       "</tr>\n",
       "<tr>\n",
       "  <th>upvotes</th>                <td>   -0.2072</td> <td>    1.680</td> <td>   -0.123</td> <td> 0.902</td> <td>   -3.542</td> <td>    3.128</td>\n",
       "</tr>\n",
       "<tr>\n",
       "  <th>upvotes:gilded[T.True]</th> <td>    0.5093</td> <td>    1.892</td> <td>    0.269</td> <td> 0.788</td> <td>   -3.246</td> <td>    4.264</td>\n",
       "</tr>\n",
       "</table>\n",
       "<table class=\"simpletable\">\n",
       "<tr>\n",
       "  <th>Omnibus:</th>       <td>116.611</td> <th>  Durbin-Watson:     </th> <td>   1.996</td>\n",
       "</tr>\n",
       "<tr>\n",
       "  <th>Prob(Omnibus):</th> <td> 0.000</td>  <th>  Jarque-Bera (JB):  </th> <td>1779.272</td>\n",
       "</tr>\n",
       "<tr>\n",
       "  <th>Skew:</th>          <td> 4.038</td>  <th>  Prob(JB):          </th> <td>    0.00</td>\n",
       "</tr>\n",
       "<tr>\n",
       "  <th>Kurtosis:</th>      <td>22.022</td>  <th>  Cond. No.          </th> <td>9.97e+05</td>\n",
       "</tr>\n",
       "</table><br/><br/>Warnings:<br/>[1] Standard Errors assume that the covariance matrix of the errors is correctly specified.<br/>[2] The condition number is large, 9.97e+05. This might indicate that there are<br/>strong multicollinearity or other numerical problems."
      ],
      "text/plain": [
       "<class 'statsmodels.iolib.summary.Summary'>\n",
       "\"\"\"\n",
       "                             OLS Regression Results                             \n",
       "================================================================================\n",
       "Dep. Variable:     author_comment_karma   R-squared:                       0.008\n",
       "Model:                              OLS   Adj. R-squared:                 -0.023\n",
       "Method:                   Least Squares   F-statistic:                    0.2713\n",
       "Date:                  Thu, 14 May 2020   Prob (F-statistic):              0.846\n",
       "Time:                          12:07:53   Log-Likelihood:                -1313.9\n",
       "No. Observations:                   100   AIC:                             2636.\n",
       "Df Residuals:                        96   BIC:                             2646.\n",
       "Df Model:                             3                                         \n",
       "Covariance Type:              nonrobust                                         \n",
       "==========================================================================================\n",
       "                             coef    std err          t      P>|t|      [0.025      0.975]\n",
       "------------------------------------------------------------------------------------------\n",
       "Intercept               5.737e+04   1.03e+05      0.557      0.579   -1.47e+05    2.62e+05\n",
       "gilded[T.True]         -1.338e+04   1.21e+05     -0.110      0.913   -2.54e+05    2.28e+05\n",
       "upvotes                   -0.2072      1.680     -0.123      0.902      -3.542       3.128\n",
       "upvotes:gilded[T.True]     0.5093      1.892      0.269      0.788      -3.246       4.264\n",
       "==============================================================================\n",
       "Omnibus:                      116.611   Durbin-Watson:                   1.996\n",
       "Prob(Omnibus):                  0.000   Jarque-Bera (JB):             1779.272\n",
       "Skew:                           4.038   Prob(JB):                         0.00\n",
       "Kurtosis:                      22.022   Cond. No.                     9.97e+05\n",
       "==============================================================================\n",
       "\n",
       "Warnings:\n",
       "[1] Standard Errors assume that the covariance matrix of the errors is correctly specified.\n",
       "[2] The condition number is large, 9.97e+05. This might indicate that there are\n",
       "strong multicollinearity or other numerical problems.\n",
       "\"\"\""
      ]
     },
     "execution_count": 8,
     "metadata": {},
     "output_type": "execute_result"
    }
   ],
   "source": [
    "link_upvote_corr_inter = sm.ols('author_comment_karma~upvotes*gilded', data=posts_df).fit()\n",
    "link_upvote_corr_inter.summary()"
   ]
  },
  {
   "cell_type": "markdown",
   "metadata": {
    "colab_type": "text",
    "id": "bbNGVA6t3-aQ"
   },
   "source": [
    "### Analysis\n",
    "\n",
    "For author comment karma, when we check for an interaction term, we do not reject the null hypothedis for no relationship because we get a p value of 0.902 and 0.787, respectively, for the posts without and with awards. Our model says that for posts without awards, for every upvote, there is a 0.207 decrease in the author's comment karma, and for posts with awards, for every upvote, there is an 0.304 increase in the author's comment karma. This makes sense as if a post has an award, the author of the comment is probably good at writing comments, but again, these are not statistically significant results. "
   ]
  },
  {
   "cell_type": "code",
   "execution_count": 9,
   "metadata": {
    "colab": {},
    "colab_type": "code",
    "id": "5KsLK2H23-aR",
    "outputId": "207346c5-1fbe-4e3c-d7aa-1e2f902ab084"
   },
   "outputs": [
    {
     "data": {
      "text/html": [
       "<table class=\"simpletable\">\n",
       "<caption>OLS Regression Results</caption>\n",
       "<tr>\n",
       "  <th>Dep. Variable:</th>    <td>author_link_karma</td> <th>  R-squared:         </th> <td>   0.020</td>\n",
       "</tr>\n",
       "<tr>\n",
       "  <th>Model:</th>                   <td>OLS</td>        <th>  Adj. R-squared:    </th> <td>  -0.010</td>\n",
       "</tr>\n",
       "<tr>\n",
       "  <th>Method:</th>             <td>Least Squares</td>   <th>  F-statistic:       </th> <td>  0.6656</td>\n",
       "</tr>\n",
       "<tr>\n",
       "  <th>Date:</th>             <td>Thu, 14 May 2020</td>  <th>  Prob (F-statistic):</th>  <td> 0.575</td> \n",
       "</tr>\n",
       "<tr>\n",
       "  <th>Time:</th>                 <td>12:07:55</td>      <th>  Log-Likelihood:    </th> <td> -1512.2</td>\n",
       "</tr>\n",
       "<tr>\n",
       "  <th>No. Observations:</th>      <td>   100</td>       <th>  AIC:               </th> <td>   3032.</td>\n",
       "</tr>\n",
       "<tr>\n",
       "  <th>Df Residuals:</th>          <td>    96</td>       <th>  BIC:               </th> <td>   3043.</td>\n",
       "</tr>\n",
       "<tr>\n",
       "  <th>Df Model:</th>              <td>     3</td>       <th>                     </th>     <td> </td>   \n",
       "</tr>\n",
       "<tr>\n",
       "  <th>Covariance Type:</th>      <td>nonrobust</td>     <th>                     </th>     <td> </td>   \n",
       "</tr>\n",
       "</table>\n",
       "<table class=\"simpletable\">\n",
       "<tr>\n",
       "             <td></td>               <th>coef</th>     <th>std err</th>      <th>t</th>      <th>P>|t|</th>  <th>[0.025</th>    <th>0.975]</th>  \n",
       "</tr>\n",
       "<tr>\n",
       "  <th>Intercept</th>              <td> 5.698e+05</td> <td> 7.48e+05</td> <td>    0.762</td> <td> 0.448</td> <td>-9.14e+05</td> <td> 2.05e+06</td>\n",
       "</tr>\n",
       "<tr>\n",
       "  <th>gilded[T.True]</th>         <td> 4.479e+05</td> <td> 8.82e+05</td> <td>    0.508</td> <td> 0.613</td> <td> -1.3e+06</td> <td>  2.2e+06</td>\n",
       "</tr>\n",
       "<tr>\n",
       "  <th>upvotes</th>                <td>   -3.4059</td> <td>   12.205</td> <td>   -0.279</td> <td> 0.781</td> <td>  -27.633</td> <td>   20.821</td>\n",
       "</tr>\n",
       "<tr>\n",
       "  <th>upvotes:gilded[T.True]</th> <td>   -5.2595</td> <td>   13.743</td> <td>   -0.383</td> <td> 0.703</td> <td>  -32.539</td> <td>   22.020</td>\n",
       "</tr>\n",
       "</table>\n",
       "<table class=\"simpletable\">\n",
       "<tr>\n",
       "  <th>Omnibus:</th>       <td>134.505</td> <th>  Durbin-Watson:     </th> <td>   1.391</td>\n",
       "</tr>\n",
       "<tr>\n",
       "  <th>Prob(Omnibus):</th> <td> 0.000</td>  <th>  Jarque-Bera (JB):  </th> <td>3364.795</td>\n",
       "</tr>\n",
       "<tr>\n",
       "  <th>Skew:</th>          <td> 4.782</td>  <th>  Prob(JB):          </th> <td>    0.00</td>\n",
       "</tr>\n",
       "<tr>\n",
       "  <th>Kurtosis:</th>      <td>29.760</td>  <th>  Cond. No.          </th> <td>9.97e+05</td>\n",
       "</tr>\n",
       "</table><br/><br/>Warnings:<br/>[1] Standard Errors assume that the covariance matrix of the errors is correctly specified.<br/>[2] The condition number is large, 9.97e+05. This might indicate that there are<br/>strong multicollinearity or other numerical problems."
      ],
      "text/plain": [
       "<class 'statsmodels.iolib.summary.Summary'>\n",
       "\"\"\"\n",
       "                            OLS Regression Results                            \n",
       "==============================================================================\n",
       "Dep. Variable:      author_link_karma   R-squared:                       0.020\n",
       "Model:                            OLS   Adj. R-squared:                 -0.010\n",
       "Method:                 Least Squares   F-statistic:                    0.6656\n",
       "Date:                Thu, 14 May 2020   Prob (F-statistic):              0.575\n",
       "Time:                        12:07:55   Log-Likelihood:                -1512.2\n",
       "No. Observations:                 100   AIC:                             3032.\n",
       "Df Residuals:                      96   BIC:                             3043.\n",
       "Df Model:                           3                                         \n",
       "Covariance Type:            nonrobust                                         \n",
       "==========================================================================================\n",
       "                             coef    std err          t      P>|t|      [0.025      0.975]\n",
       "------------------------------------------------------------------------------------------\n",
       "Intercept               5.698e+05   7.48e+05      0.762      0.448   -9.14e+05    2.05e+06\n",
       "gilded[T.True]          4.479e+05   8.82e+05      0.508      0.613    -1.3e+06     2.2e+06\n",
       "upvotes                   -3.4059     12.205     -0.279      0.781     -27.633      20.821\n",
       "upvotes:gilded[T.True]    -5.2595     13.743     -0.383      0.703     -32.539      22.020\n",
       "==============================================================================\n",
       "Omnibus:                      134.505   Durbin-Watson:                   1.391\n",
       "Prob(Omnibus):                  0.000   Jarque-Bera (JB):             3364.795\n",
       "Skew:                           4.782   Prob(JB):                         0.00\n",
       "Kurtosis:                      29.760   Cond. No.                     9.97e+05\n",
       "==============================================================================\n",
       "\n",
       "Warnings:\n",
       "[1] Standard Errors assume that the covariance matrix of the errors is correctly specified.\n",
       "[2] The condition number is large, 9.97e+05. This might indicate that there are\n",
       "strong multicollinearity or other numerical problems.\n",
       "\"\"\""
      ]
     },
     "execution_count": 9,
     "metadata": {},
     "output_type": "execute_result"
    }
   ],
   "source": [
    "link_upvote_corr_inter = sm.ols('author_link_karma~upvotes*gilded', data=posts_df).fit()\n",
    "link_upvote_corr_inter.summary()"
   ]
  },
  {
   "cell_type": "markdown",
   "metadata": {
    "colab_type": "text",
    "id": "SvsjcMfD3-aV"
   },
   "source": [
    "### Analysis\n",
    "\n",
    "For author link karma, when we check for an interaction term, we do not reject the null hypothedis for no relationship because we get a p value of 0.785 and 0.697, respectively, for posts without and with awards. Our model says that for posts without awards, for every upvote, there is a 3.322 decrease in the author's link karma, and for posts with awards, for every upvote, there is an 8.677 decrease in the author's link karma. This doesn't make a lot of sense as you would expect authors of posts with awards to have more karma, but the outliers could be skewing the data again. But again, these are not statistically significant results. \n"
   ]
  },
  {
   "cell_type": "markdown",
   "metadata": {
    "colab_type": "text",
    "id": "b1CX9V2M5Ui7"
   },
   "source": [
    "### **Part 4b) OLS: Upvotes vs. Comment Author Score, Author Link Karma, Comments, Crossposts**\n",
    "\n",
    "Now that we've attempted to predict the author's credentials, let's focus on the upvotes. We want to see what influences the number of upvotes a post gets (in the top 100 posts). \n",
    "\n",
    "We, again, run linear regression."
   ]
  },
  {
   "cell_type": "code",
   "execution_count": 10,
   "metadata": {
    "colab": {},
    "colab_type": "code",
    "id": "E59FczsP3-aW",
    "outputId": "83977613-068a-41df-e5d5-4573b5bd0dea"
   },
   "outputs": [
    {
     "data": {
      "text/html": [
       "<table class=\"simpletable\">\n",
       "<caption>OLS Regression Results</caption>\n",
       "<tr>\n",
       "  <th>Dep. Variable:</th>         <td>upvotes</td>     <th>  R-squared:         </th> <td>   0.341</td>\n",
       "</tr>\n",
       "<tr>\n",
       "  <th>Model:</th>                   <td>OLS</td>       <th>  Adj. R-squared:    </th> <td>   0.314</td>\n",
       "</tr>\n",
       "<tr>\n",
       "  <th>Method:</th>             <td>Least Squares</td>  <th>  F-statistic:       </th> <td>   12.31</td>\n",
       "</tr>\n",
       "<tr>\n",
       "  <th>Date:</th>             <td>Thu, 14 May 2020</td> <th>  Prob (F-statistic):</th> <td>4.21e-08</td>\n",
       "</tr>\n",
       "<tr>\n",
       "  <th>Time:</th>                 <td>12:07:59</td>     <th>  Log-Likelihood:    </th> <td> -1096.1</td>\n",
       "</tr>\n",
       "<tr>\n",
       "  <th>No. Observations:</th>      <td>   100</td>      <th>  AIC:               </th> <td>   2202.</td>\n",
       "</tr>\n",
       "<tr>\n",
       "  <th>Df Residuals:</th>          <td>    95</td>      <th>  BIC:               </th> <td>   2215.</td>\n",
       "</tr>\n",
       "<tr>\n",
       "  <th>Df Model:</th>              <td>     4</td>      <th>                     </th>     <td> </td>   \n",
       "</tr>\n",
       "<tr>\n",
       "  <th>Covariance Type:</th>      <td>nonrobust</td>    <th>                     </th>     <td> </td>   \n",
       "</tr>\n",
       "</table>\n",
       "<table class=\"simpletable\">\n",
       "<tr>\n",
       "            <td></td>              <th>coef</th>     <th>std err</th>      <th>t</th>      <th>P>|t|</th>  <th>[0.025</th>    <th>0.975]</th>  \n",
       "</tr>\n",
       "<tr>\n",
       "  <th>Intercept</th>            <td> 5.343e+04</td> <td> 2699.884</td> <td>   19.788</td> <td> 0.000</td> <td> 4.81e+04</td> <td> 5.88e+04</td>\n",
       "</tr>\n",
       "<tr>\n",
       "  <th>author_comment_karma</th> <td>   -0.0066</td> <td>    0.013</td> <td>   -0.521</td> <td> 0.603</td> <td>   -0.032</td> <td>    0.019</td>\n",
       "</tr>\n",
       "<tr>\n",
       "  <th>author_link_karma</th>    <td>   -0.0022</td> <td>    0.002</td> <td>   -1.357</td> <td> 0.178</td> <td>   -0.005</td> <td>    0.001</td>\n",
       "</tr>\n",
       "<tr>\n",
       "  <th>comments</th>             <td>    2.1814</td> <td>    0.953</td> <td>    2.288</td> <td> 0.024</td> <td>    0.289</td> <td>    4.074</td>\n",
       "</tr>\n",
       "<tr>\n",
       "  <th>crossposts</th>           <td>  479.0905</td> <td>   81.316</td> <td>    5.892</td> <td> 0.000</td> <td>  317.658</td> <td>  640.523</td>\n",
       "</tr>\n",
       "</table>\n",
       "<table class=\"simpletable\">\n",
       "<tr>\n",
       "  <th>Omnibus:</th>       <td>22.058</td> <th>  Durbin-Watson:     </th> <td>   0.758</td>\n",
       "</tr>\n",
       "<tr>\n",
       "  <th>Prob(Omnibus):</th> <td> 0.000</td> <th>  Jarque-Bera (JB):  </th> <td>  30.129</td>\n",
       "</tr>\n",
       "<tr>\n",
       "  <th>Skew:</th>          <td> 1.069</td> <th>  Prob(JB):          </th> <td>2.87e-07</td>\n",
       "</tr>\n",
       "<tr>\n",
       "  <th>Kurtosis:</th>      <td> 4.632</td> <th>  Cond. No.          </th> <td>1.85e+06</td>\n",
       "</tr>\n",
       "</table><br/><br/>Warnings:<br/>[1] Standard Errors assume that the covariance matrix of the errors is correctly specified.<br/>[2] The condition number is large, 1.85e+06. This might indicate that there are<br/>strong multicollinearity or other numerical problems."
      ],
      "text/plain": [
       "<class 'statsmodels.iolib.summary.Summary'>\n",
       "\"\"\"\n",
       "                            OLS Regression Results                            \n",
       "==============================================================================\n",
       "Dep. Variable:                upvotes   R-squared:                       0.341\n",
       "Model:                            OLS   Adj. R-squared:                  0.314\n",
       "Method:                 Least Squares   F-statistic:                     12.31\n",
       "Date:                Thu, 14 May 2020   Prob (F-statistic):           4.21e-08\n",
       "Time:                        12:07:59   Log-Likelihood:                -1096.1\n",
       "No. Observations:                 100   AIC:                             2202.\n",
       "Df Residuals:                      95   BIC:                             2215.\n",
       "Df Model:                           4                                         \n",
       "Covariance Type:            nonrobust                                         \n",
       "========================================================================================\n",
       "                           coef    std err          t      P>|t|      [0.025      0.975]\n",
       "----------------------------------------------------------------------------------------\n",
       "Intercept             5.343e+04   2699.884     19.788      0.000    4.81e+04    5.88e+04\n",
       "author_comment_karma    -0.0066      0.013     -0.521      0.603      -0.032       0.019\n",
       "author_link_karma       -0.0022      0.002     -1.357      0.178      -0.005       0.001\n",
       "comments                 2.1814      0.953      2.288      0.024       0.289       4.074\n",
       "crossposts             479.0905     81.316      5.892      0.000     317.658     640.523\n",
       "==============================================================================\n",
       "Omnibus:                       22.058   Durbin-Watson:                   0.758\n",
       "Prob(Omnibus):                  0.000   Jarque-Bera (JB):               30.129\n",
       "Skew:                           1.069   Prob(JB):                     2.87e-07\n",
       "Kurtosis:                       4.632   Cond. No.                     1.85e+06\n",
       "==============================================================================\n",
       "\n",
       "Warnings:\n",
       "[1] Standard Errors assume that the covariance matrix of the errors is correctly specified.\n",
       "[2] The condition number is large, 1.85e+06. This might indicate that there are\n",
       "strong multicollinearity or other numerical problems.\n",
       "\"\"\""
      ]
     },
     "execution_count": 10,
     "metadata": {},
     "output_type": "execute_result"
    }
   ],
   "source": [
    "multi_res = sm.ols('upvotes~author_comment_karma+author_link_karma+comments+crossposts', data=posts_df).fit()\n",
    "multi_res.summary()"
   ]
  },
  {
   "cell_type": "markdown",
   "metadata": {
    "colab_type": "text",
    "id": "SKA03Kft3-aY"
   },
   "source": [
    "### Analysis\n",
    "\n",
    "We find that the statistically significant variables (our threshold is 0.05) that affect number of upvotes are number of comments and number of crossposts. The number of comments has a p value of 0.024 and the number of crossposts has a p value that's basically 0. For every comment, there is a 2.194 increase in the number of upvotes. For every crosspost, there is 479.191 increase in the number of upvotes. This makes sense as if a post has more comments, it probably engages the audience more so they are likely to respond well to it, resulting in a higher number of upvotes. It also makes sense for the crossposts because if a post reaches multiple subreddits, it reaches a larger audience which means more chances for people to engage with the post. It is somewhat surprising as we didn't expect the crosspost coefficient to be so high. It's also somewhat surprising that the variables related to the author don't contribute much to the number of upvotes. This is likely due to the nature of reddit as it tends to focus more on the content rather than who makes it (as opposed to other forms of media like Youtube where creators typically have a strong following). "
   ]
  },
  {
   "cell_type": "markdown",
   "metadata": {
    "colab_type": "text",
    "id": "nPDCO7gAB2bc"
   },
   "source": [
    "## Part 5) **Machine Learning**\n",
    "\n",
    "Now that we have examined the relationship between number of upvotes a post has and the credentials of its author, let's examine the post further. \n",
    "\n",
    "We want to try to see if we can predict if a post gets an award using author link karma, author comment karma, number of upvotes, upvote ratio, number of comments, and number of crossposts. We chose these specific attributes because we wanted to look at the audience, their reaction and the author's credentials as opposed to the type of post. \n",
    "\n",
    "First, we clean up the data into a nice form to input into a random forest classifier. "
   ]
  },
  {
   "cell_type": "code",
   "execution_count": 11,
   "metadata": {
    "colab": {},
    "colab_type": "code",
    "collapsed": true,
    "id": "AzDFoV_G3-aZ"
   },
   "outputs": [],
   "source": [
    "X = posts_df[['author_link_karma','author_comment_karma', 'upvotes','upvote_ratio','comments','crossposts']].to_numpy()\n",
    "# get the outcome from the dataframe we created\n",
    "posts_df['y'] = 1\n",
    "posts_df['y'] = posts_df['y'].where(posts_df['gilded'] == False, 0)\n",
    "y = posts_df['y'].to_numpy()"
   ]
  },
  {
   "cell_type": "markdown",
   "metadata": {
    "colab_type": "text",
    "id": "IQ0wjhW93-ac"
   },
   "source": [
    "We chose to use a random forest classifier because they tend to be pretty reliable and robust. They try to improve prediction performance and reduce instability by averaging multiple decision trees. We use 100 trees and 10 fold cross validation to check our error rate. We also extract ROC data to get AUROC data for a visual for our error rate. \n",
    "\n",
    "The following code is adapted from this sklearn tutorial: https://scikit-learn.org/stable/auto_examples/model_selection/plot_roc_crossval.html#sphx-glr-auto-examples-model-selection-plot-roc-crossval-py. Read more to find out additional information and use the sklearn docs to get details on using more models."
   ]
  },
  {
   "cell_type": "code",
   "execution_count": 12,
   "metadata": {
    "colab": {},
    "colab_type": "code",
    "collapsed": true,
    "id": "6BN60Kv13-ac"
   },
   "outputs": [],
   "source": [
    "rf = sklearn.ensemble.RandomForestClassifier(n_estimators=100)\n",
    "\n",
    "parameters = {'max_features': ['auto', 'sqrt', 'log2']} \n",
    "cv = sklearn.model_selection.GridSearchCV(rf, parameters, cv=10)\n",
    "\n",
    "cv_obj = sklearn.model_selection.StratifiedKFold(n_splits=10)\n",
    "\n",
    "def get_roc_data(model, cv_obj):\n",
    "    curve_df = None\n",
    "    aucs = []\n",
    "    mean_fpr = np.linspace(0, 1, 100)\n",
    "    \n",
    "    for i, (train, test) in enumerate(cv_obj.split(X, y)):\n",
    "        model.fit(X[train], y[train])\n",
    "        scores = model.predict_proba(X[test])[:,1]\n",
    "        fpr, tpr, _ = sklearn.metrics.roc_curve(y[test],scores)\n",
    "        \n",
    "        interp_tpr = np.interp(mean_fpr, fpr, tpr)\n",
    "        interp_tpr[0] = 0.0\n",
    "        tmp = pd.DataFrame({'fold':i, 'fpr': mean_fpr, 'tpr': interp_tpr})\n",
    "        curve_df = tmp if curve_df is None else pd.concat([curve_df, tmp])\n",
    "        \n",
    "        aucs.append(sklearn.metrics.auc(fpr, tpr))\n",
    "        \n",
    "    curve_df = curve_df.groupby('fpr').agg({'tpr': 'mean'}).reset_index()\n",
    "    curve_df.iloc[-1,1] = 1.0\n",
    "    \n",
    "    auc_df = pd.DataFrame({'fold': np.arange(len(aucs)), 'auc': aucs})\n",
    "    return curve_df, auc_df"
   ]
  },
  {
   "cell_type": "code",
   "execution_count": null,
   "metadata": {
    "colab": {},
    "colab_type": "code",
    "collapsed": true,
    "id": "f4wtS_OJ3-af"
   },
   "outputs": [],
   "source": [
    "# get roc curve data for  model\n",
    "curve_df, auc_df = get_roc_data(cv, cv_obj)\n",
    "curve_df['model'] = 'm'\n",
    "auc_df['model'] = 'm'"
   ]
  },
  {
   "cell_type": "code",
   "execution_count": null,
   "metadata": {
    "colab": {},
    "colab_type": "code",
    "id": "UiVHyPic3-ai",
    "outputId": "4e884b9e-fde7-4b21-8507-195d3359a0ac"
   },
   "outputs": [],
   "source": [
    "auc_df"
   ]
  },
  {
   "cell_type": "code",
   "execution_count": null,
   "metadata": {
    "colab": {},
    "colab_type": "code",
    "id": "Xsf8e7zX3-al",
    "outputId": "3b532f23-5e02-448e-8610-1ecf05e9531b"
   },
   "outputs": [],
   "source": [
    "# plot the distribution of auc estimates\n",
    "(ggplot(auc_df, aes(x='model', y='auc')) + \n",
    "     geom_jitter(position=position_jitter(0.1)) +\n",
    "     coord_flip() +\n",
    "     labs(title = \"AUC comparison\",\n",
    "          x=\"Model\",\n",
    "          y=\"Area under ROC curve\"))"
   ]
  },
  {
   "cell_type": "code",
   "execution_count": null,
   "metadata": {
    "colab": {},
    "colab_type": "code",
    "id": "36FwI8is3-an",
    "outputId": "03f57e45-5190-449a-8501-9bfb026ca544"
   },
   "outputs": [],
   "source": [
    "mean_curve_df = curve_df.groupby(['model','fpr']).agg({'tpr': 'mean'}).reset_index()\n",
    "(ggplot(mean_curve_df, aes(x='fpr', y='tpr', color='model')) +\n",
    "    geom_line() +\n",
    "    labs(title = \"ROC curve\",\n",
    "         x = \"False positive rate\",\n",
    "         y = \"True positive rate\"))"
   ]
  },
  {
   "cell_type": "markdown",
   "metadata": {
    "colab_type": "text",
    "id": "_zhfoBYW3-aq"
   },
   "source": [
    "### Analysis\n",
    "We want to have a more log shaped curve for the ROC curve, but we have a more linear curve, indicating that our model was not very accurate in predicting if a post recieved an award. "
   ]
  },
  {
   "cell_type": "code",
   "execution_count": 0,
   "metadata": {
    "colab": {},
    "colab_type": "code",
    "collapsed": true,
    "id": "jDedqCfP3-aq"
   },
   "outputs": [],
   "source": []
  }
 ],
 "metadata": {
  "colab": {
   "collapsed_sections": [],
   "name": "CMSC320_Final.ipynb",
   "provenance": [],
   "toc_visible": true
  },
  "kernelspec": {
   "display_name": "Python 3",
   "language": "python",
   "name": "python3"
  },
  "language_info": {
   "codemirror_mode": {
    "name": "ipython",
    "version": 3
   },
   "file_extension": ".py",
   "mimetype": "text/x-python",
   "name": "python",
   "nbconvert_exporter": "python",
   "pygments_lexer": "ipython3",
   "version": "3.6.2"
  },
  "widgets": {
   "application/vnd.jupyter.widget-state+json": {
    "0ad0dd41c412440b8f53bf494ea6df32": {
     "model_module": "@jupyter-widgets/controls",
     "model_name": "DescriptionStyleModel",
     "state": {
      "_model_module": "@jupyter-widgets/controls",
      "_model_module_version": "1.5.0",
      "_model_name": "DescriptionStyleModel",
      "_view_count": null,
      "_view_module": "@jupyter-widgets/base",
      "_view_module_version": "1.2.0",
      "_view_name": "StyleView",
      "description_width": ""
     }
    },
    "365279826cde49aeb82f6676d1025d94": {
     "model_module": "@jupyter-widgets/base",
     "model_name": "LayoutModel",
     "state": {
      "_model_module": "@jupyter-widgets/base",
      "_model_module_version": "1.2.0",
      "_model_name": "LayoutModel",
      "_view_count": null,
      "_view_module": "@jupyter-widgets/base",
      "_view_module_version": "1.2.0",
      "_view_name": "LayoutView",
      "align_content": null,
      "align_items": null,
      "align_self": null,
      "border": null,
      "bottom": null,
      "display": null,
      "flex": null,
      "flex_flow": null,
      "grid_area": null,
      "grid_auto_columns": null,
      "grid_auto_flow": null,
      "grid_auto_rows": null,
      "grid_column": null,
      "grid_gap": null,
      "grid_row": null,
      "grid_template_areas": null,
      "grid_template_columns": null,
      "grid_template_rows": null,
      "height": null,
      "justify_content": null,
      "justify_items": null,
      "left": null,
      "margin": null,
      "max_height": null,
      "max_width": null,
      "min_height": null,
      "min_width": null,
      "object_fit": null,
      "object_position": null,
      "order": null,
      "overflow": null,
      "overflow_x": null,
      "overflow_y": null,
      "padding": null,
      "right": null,
      "top": null,
      "visibility": null,
      "width": null
     }
    },
    "3af894a801dd4976a997d9ee092f89c1": {
     "model_module": "@jupyter-widgets/controls",
     "model_name": "HTMLModel",
     "state": {
      "_dom_classes": [],
      "_model_module": "@jupyter-widgets/controls",
      "_model_module_version": "1.5.0",
      "_model_name": "HTMLModel",
      "_view_count": null,
      "_view_module": "@jupyter-widgets/controls",
      "_view_module_version": "1.5.0",
      "_view_name": "HTMLView",
      "description": "",
      "description_tooltip": null,
      "layout": "IPY_MODEL_44b38d75b1ed4741baa9f656431e23de",
      "placeholder": "​",
      "style": "IPY_MODEL_c1ca9323dfc1453cb9bf3afd8fff455f",
      "value": " 415/? [13:06&lt;00:00,  1.90s/it]"
     }
    },
    "44b38d75b1ed4741baa9f656431e23de": {
     "model_module": "@jupyter-widgets/base",
     "model_name": "LayoutModel",
     "state": {
      "_model_module": "@jupyter-widgets/base",
      "_model_module_version": "1.2.0",
      "_model_name": "LayoutModel",
      "_view_count": null,
      "_view_module": "@jupyter-widgets/base",
      "_view_module_version": "1.2.0",
      "_view_name": "LayoutView",
      "align_content": null,
      "align_items": null,
      "align_self": null,
      "border": null,
      "bottom": null,
      "display": null,
      "flex": null,
      "flex_flow": null,
      "grid_area": null,
      "grid_auto_columns": null,
      "grid_auto_flow": null,
      "grid_auto_rows": null,
      "grid_column": null,
      "grid_gap": null,
      "grid_row": null,
      "grid_template_areas": null,
      "grid_template_columns": null,
      "grid_template_rows": null,
      "height": null,
      "justify_content": null,
      "justify_items": null,
      "left": null,
      "margin": null,
      "max_height": null,
      "max_width": null,
      "min_height": null,
      "min_width": null,
      "object_fit": null,
      "object_position": null,
      "order": null,
      "overflow": null,
      "overflow_x": null,
      "overflow_y": null,
      "padding": null,
      "right": null,
      "top": null,
      "visibility": null,
      "width": null
     }
    },
    "56d186d941954c5aa86b8c0faab66801": {
     "model_module": "@jupyter-widgets/controls",
     "model_name": "FloatProgressModel",
     "state": {
      "_dom_classes": [],
      "_model_module": "@jupyter-widgets/controls",
      "_model_module_version": "1.5.0",
      "_model_name": "FloatProgressModel",
      "_view_count": null,
      "_view_module": "@jupyter-widgets/controls",
      "_view_module_version": "1.5.0",
      "_view_name": "ProgressView",
      "bar_style": "success",
      "description": "",
      "description_tooltip": null,
      "layout": "IPY_MODEL_365279826cde49aeb82f6676d1025d94",
      "max": 411,
      "min": 0,
      "orientation": "horizontal",
      "style": "IPY_MODEL_afbacc034c1d4f1c88820e713a93e1a3",
      "value": 411
     }
    },
    "56fd1b1d2321467e97317bf449377320": {
     "model_module": "@jupyter-widgets/controls",
     "model_name": "HBoxModel",
     "state": {
      "_dom_classes": [],
      "_model_module": "@jupyter-widgets/controls",
      "_model_module_version": "1.5.0",
      "_model_name": "HBoxModel",
      "_view_count": null,
      "_view_module": "@jupyter-widgets/controls",
      "_view_module_version": "1.5.0",
      "_view_name": "HBoxView",
      "box_style": "",
      "children": [
       "IPY_MODEL_62de3be15c5941e281def864903b4464",
       "IPY_MODEL_b521d170d75f42768c8660ca410bd984"
      ],
      "layout": "IPY_MODEL_84877c097c83466d9b97e86d9b53fb45"
     }
    },
    "62de3be15c5941e281def864903b4464": {
     "model_module": "@jupyter-widgets/controls",
     "model_name": "FloatProgressModel",
     "state": {
      "_dom_classes": [],
      "_model_module": "@jupyter-widgets/controls",
      "_model_module_version": "1.5.0",
      "_model_name": "FloatProgressModel",
      "_view_count": null,
      "_view_module": "@jupyter-widgets/controls",
      "_view_module_version": "1.5.0",
      "_view_name": "ProgressView",
      "bar_style": "success",
      "description": "100%",
      "description_tooltip": null,
      "layout": "IPY_MODEL_a65b148ba67e4733b86ec9458aff7992",
      "max": 100,
      "min": 0,
      "orientation": "horizontal",
      "style": "IPY_MODEL_a3d11941575e4ff285cee4ca36e6767c",
      "value": 100
     }
    },
    "7ee9ecd0fdc547edb42b98d010d73f1b": {
     "model_module": "@jupyter-widgets/controls",
     "model_name": "HBoxModel",
     "state": {
      "_dom_classes": [],
      "_model_module": "@jupyter-widgets/controls",
      "_model_module_version": "1.5.0",
      "_model_name": "HBoxModel",
      "_view_count": null,
      "_view_module": "@jupyter-widgets/controls",
      "_view_module_version": "1.5.0",
      "_view_name": "HBoxView",
      "box_style": "",
      "children": [
       "IPY_MODEL_56d186d941954c5aa86b8c0faab66801",
       "IPY_MODEL_3af894a801dd4976a997d9ee092f89c1"
      ],
      "layout": "IPY_MODEL_a3e0844f07c2459784de8b199971dcf3"
     }
    },
    "84877c097c83466d9b97e86d9b53fb45": {
     "model_module": "@jupyter-widgets/base",
     "model_name": "LayoutModel",
     "state": {
      "_model_module": "@jupyter-widgets/base",
      "_model_module_version": "1.2.0",
      "_model_name": "LayoutModel",
      "_view_count": null,
      "_view_module": "@jupyter-widgets/base",
      "_view_module_version": "1.2.0",
      "_view_name": "LayoutView",
      "align_content": null,
      "align_items": null,
      "align_self": null,
      "border": null,
      "bottom": null,
      "display": null,
      "flex": null,
      "flex_flow": null,
      "grid_area": null,
      "grid_auto_columns": null,
      "grid_auto_flow": null,
      "grid_auto_rows": null,
      "grid_column": null,
      "grid_gap": null,
      "grid_row": null,
      "grid_template_areas": null,
      "grid_template_columns": null,
      "grid_template_rows": null,
      "height": null,
      "justify_content": null,
      "justify_items": null,
      "left": null,
      "margin": null,
      "max_height": null,
      "max_width": null,
      "min_height": null,
      "min_width": null,
      "object_fit": null,
      "object_position": null,
      "order": null,
      "overflow": null,
      "overflow_x": null,
      "overflow_y": null,
      "padding": null,
      "right": null,
      "top": null,
      "visibility": null,
      "width": null
     }
    },
    "a3d11941575e4ff285cee4ca36e6767c": {
     "model_module": "@jupyter-widgets/controls",
     "model_name": "ProgressStyleModel",
     "state": {
      "_model_module": "@jupyter-widgets/controls",
      "_model_module_version": "1.5.0",
      "_model_name": "ProgressStyleModel",
      "_view_count": null,
      "_view_module": "@jupyter-widgets/base",
      "_view_module_version": "1.2.0",
      "_view_name": "StyleView",
      "bar_color": null,
      "description_width": "initial"
     }
    },
    "a3e0844f07c2459784de8b199971dcf3": {
     "model_module": "@jupyter-widgets/base",
     "model_name": "LayoutModel",
     "state": {
      "_model_module": "@jupyter-widgets/base",
      "_model_module_version": "1.2.0",
      "_model_name": "LayoutModel",
      "_view_count": null,
      "_view_module": "@jupyter-widgets/base",
      "_view_module_version": "1.2.0",
      "_view_name": "LayoutView",
      "align_content": null,
      "align_items": null,
      "align_self": null,
      "border": null,
      "bottom": null,
      "display": null,
      "flex": null,
      "flex_flow": null,
      "grid_area": null,
      "grid_auto_columns": null,
      "grid_auto_flow": null,
      "grid_auto_rows": null,
      "grid_column": null,
      "grid_gap": null,
      "grid_row": null,
      "grid_template_areas": null,
      "grid_template_columns": null,
      "grid_template_rows": null,
      "height": null,
      "justify_content": null,
      "justify_items": null,
      "left": null,
      "margin": null,
      "max_height": null,
      "max_width": null,
      "min_height": null,
      "min_width": null,
      "object_fit": null,
      "object_position": null,
      "order": null,
      "overflow": null,
      "overflow_x": null,
      "overflow_y": null,
      "padding": null,
      "right": null,
      "top": null,
      "visibility": null,
      "width": null
     }
    },
    "a65b148ba67e4733b86ec9458aff7992": {
     "model_module": "@jupyter-widgets/base",
     "model_name": "LayoutModel",
     "state": {
      "_model_module": "@jupyter-widgets/base",
      "_model_module_version": "1.2.0",
      "_model_name": "LayoutModel",
      "_view_count": null,
      "_view_module": "@jupyter-widgets/base",
      "_view_module_version": "1.2.0",
      "_view_name": "LayoutView",
      "align_content": null,
      "align_items": null,
      "align_self": null,
      "border": null,
      "bottom": null,
      "display": null,
      "flex": null,
      "flex_flow": null,
      "grid_area": null,
      "grid_auto_columns": null,
      "grid_auto_flow": null,
      "grid_auto_rows": null,
      "grid_column": null,
      "grid_gap": null,
      "grid_row": null,
      "grid_template_areas": null,
      "grid_template_columns": null,
      "grid_template_rows": null,
      "height": null,
      "justify_content": null,
      "justify_items": null,
      "left": null,
      "margin": null,
      "max_height": null,
      "max_width": null,
      "min_height": null,
      "min_width": null,
      "object_fit": null,
      "object_position": null,
      "order": null,
      "overflow": null,
      "overflow_x": null,
      "overflow_y": null,
      "padding": null,
      "right": null,
      "top": null,
      "visibility": null,
      "width": null
     }
    },
    "afbacc034c1d4f1c88820e713a93e1a3": {
     "model_module": "@jupyter-widgets/controls",
     "model_name": "ProgressStyleModel",
     "state": {
      "_model_module": "@jupyter-widgets/controls",
      "_model_module_version": "1.5.0",
      "_model_name": "ProgressStyleModel",
      "_view_count": null,
      "_view_module": "@jupyter-widgets/base",
      "_view_module_version": "1.2.0",
      "_view_name": "StyleView",
      "bar_color": null,
      "description_width": "initial"
     }
    },
    "b521d170d75f42768c8660ca410bd984": {
     "model_module": "@jupyter-widgets/controls",
     "model_name": "HTMLModel",
     "state": {
      "_dom_classes": [],
      "_model_module": "@jupyter-widgets/controls",
      "_model_module_version": "1.5.0",
      "_model_name": "HTMLModel",
      "_view_count": null,
      "_view_module": "@jupyter-widgets/controls",
      "_view_module_version": "1.5.0",
      "_view_name": "HTMLView",
      "description": "",
      "description_tooltip": null,
      "layout": "IPY_MODEL_e61213cf126f4ddb8c943690d40236b6",
      "placeholder": "​",
      "style": "IPY_MODEL_0ad0dd41c412440b8f53bf494ea6df32",
      "value": " 100/100 [00:09&lt;00:00, 10.57it/s]"
     }
    },
    "c1ca9323dfc1453cb9bf3afd8fff455f": {
     "model_module": "@jupyter-widgets/controls",
     "model_name": "DescriptionStyleModel",
     "state": {
      "_model_module": "@jupyter-widgets/controls",
      "_model_module_version": "1.5.0",
      "_model_name": "DescriptionStyleModel",
      "_view_count": null,
      "_view_module": "@jupyter-widgets/base",
      "_view_module_version": "1.2.0",
      "_view_name": "StyleView",
      "description_width": ""
     }
    },
    "e61213cf126f4ddb8c943690d40236b6": {
     "model_module": "@jupyter-widgets/base",
     "model_name": "LayoutModel",
     "state": {
      "_model_module": "@jupyter-widgets/base",
      "_model_module_version": "1.2.0",
      "_model_name": "LayoutModel",
      "_view_count": null,
      "_view_module": "@jupyter-widgets/base",
      "_view_module_version": "1.2.0",
      "_view_name": "LayoutView",
      "align_content": null,
      "align_items": null,
      "align_self": null,
      "border": null,
      "bottom": null,
      "display": null,
      "flex": null,
      "flex_flow": null,
      "grid_area": null,
      "grid_auto_columns": null,
      "grid_auto_flow": null,
      "grid_auto_rows": null,
      "grid_column": null,
      "grid_gap": null,
      "grid_row": null,
      "grid_template_areas": null,
      "grid_template_columns": null,
      "grid_template_rows": null,
      "height": null,
      "justify_content": null,
      "justify_items": null,
      "left": null,
      "margin": null,
      "max_height": null,
      "max_width": null,
      "min_height": null,
      "min_width": null,
      "object_fit": null,
      "object_position": null,
      "order": null,
      "overflow": null,
      "overflow_x": null,
      "overflow_y": null,
      "padding": null,
      "right": null,
      "top": null,
      "visibility": null,
      "width": null
     }
    }
   }
  }
 },
 "nbformat": 4,
 "nbformat_minor": 1
}
